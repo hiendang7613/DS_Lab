{
  "nbformat": 4,
  "nbformat_minor": 0,
  "metadata": {
    "kernelspec": {
      "display_name": "Python 3",
      "language": "python",
      "name": "python3"
    },
    "language_info": {
      "codemirror_mode": {
        "name": "ipython",
        "version": 3
      },
      "file_extension": ".py",
      "mimetype": "text/x-python",
      "name": "python",
      "nbconvert_exporter": "python",
      "pygments_lexer": "ipython3",
      "version": "3.7.9"
    },
    "toc": {
      "base_numbering": 1,
      "nav_menu": {},
      "number_sections": false,
      "sideBar": true,
      "skip_h1_title": true,
      "title_cell": "Table of Contents",
      "title_sidebar": "Contents",
      "toc_cell": false,
      "toc_position": {
        "height": "calc(100% - 180px)",
        "left": "10px",
        "top": "150px",
        "width": "175px"
      },
      "toc_section_display": true,
      "toc_window_display": true
    },
    "colab": {
      "name": "Lab02_KhamPhaPhanTichDuLieu.ipynb",
      "provenance": [],
      "collapsed_sections": [
        "5bElXNke3V5J",
        "JPviGNmP3V5T",
        "AEOy5FPT3V5U",
        "sbPUYjdl3V5U",
        "rn49QFG43V5V"
      ],
      "toc_visible": true
    }
  },
  "cells": [
    {
      "cell_type": "markdown",
      "metadata": {
        "id": "wrzB9EPY3V46"
      },
      "source": [
        "# HW2: Khám phá dữ liệu, tiền xử lý, phân tích đơn giản\n",
        "**Vì đây là bài tập về Pandas nên yêu cầu là không được dùng vòng lặp**\n",
        "\n",
        "\n",
        "Họ tên: Đặng Văn Hiển\n",
        "\n",
        "MSSV: 18120363"
      ]
    },
    {
      "cell_type": "markdown",
      "metadata": {
        "id": "X-kfBvGM3V5E"
      },
      "source": [
        "---"
      ]
    },
    {
      "cell_type": "markdown",
      "metadata": {
        "id": "h20vZpU23V5F"
      },
      "source": [
        "## Cách làm bài và nộp bài (bạn cần đọc kỹ)"
      ]
    },
    {
      "cell_type": "markdown",
      "metadata": {
        "id": "O9g4aL0j3V5G"
      },
      "source": [
        "&#9889; Bạn lưu ý là mình sẽ dùng chương trình hỗ trợ chấm bài nên bạn cần phải tuân thủ chính xác qui định mà mình đặt ra, nếu không rõ thì hỏi, chứ không nên tự tiện làm theo ý của cá nhân.\n",
        "\n",
        "**Cách làm bài**\n",
        "\n",
        "Bạn sẽ làm trực tiếp trên file notebook này. Đầu tiên, bạn điền họ tên và MSSV vào phần đầu file ở bên trên. Trong file, bạn làm bài ở những chỗ có ghi là:\n",
        "```python\n",
        "# YOUR CODE HERE\n",
        "raise NotImplementedError()\n",
        "```\n",
        "hoặc đối với những phần code không bắt buộc thì là:\n",
        "```python\n",
        "# YOUR CODE HERE (OPTION)\n",
        "```\n",
        "hoặc đối với markdown cell thì là:\n",
        "```markdown\n",
        "YOUR ANSWER HERE\n",
        "```\n",
        "Tất nhiên, khi làm thì bạn xóa dòng `raise NotImplementedError()` đi.\n",
        "Đối những phần yêu cầu code thì thường ở ngay phía dưới sẽ có một (hoặc một số) cell chứa các bộ test để giúp bạn biết đã code đúng hay chưa; nếu chạy cell này không có lỗi gì thì có nghĩa là qua được các bộ test. Trong một số trường hợp, các bộ test có thể sẽ không đầy đủ; nghĩa là, nếu không qua được test thì là code sai, nhưng nếu qua được test thì chưa chắc đã đúng.\n",
        "\n",
        "Trong khi làm bài, bạn có thể cho in ra màn hình, tạo thêm các cell để test. Nhưng khi nộp bài thì bạn xóa các cell mà bạn tự tạo, xóa hoặc comment các câu lệnh in ra màn hình. Bạn lưu ý <font color=red>không được tự tiện xóa các cell hay sửa code của Thầy</font> (trừ những chỗ được phép sửa như đã nói ở trên).\n",
        "\n",
        "Trong khi làm bài, thường xuyên `Ctrl + S` để lưu lại bài làm của bạn, tránh mất mát thông tin.\n",
        "\n",
        "\n",
        "*Nên nhớ mục tiêu chính ở đây là <font color=green>học, học một cách chân thật</font>. Bạn có thể thảo luận ý tưởng với bạn khác cũng như tham khảo các nguồn trên mạng, nhưng sau cùng <font color=green>code và bài làm phải là của bạn, dựa trên sự hiểu thật sự của bạn</font>. Khi tham khảo các nguồn trên mạng thì bạn cần ghi rõ nguồn trong bài làm. Bạn không được tham khảo bài làm của các bạn năm trước (vì nếu làm vậy thì bao giờ bạn mới có thể tự mình suy nghĩ để giải quyết vấn đề); sau khi kết thúc môn học, bạn cũng không được đưa bài làm cho các bạn khóa sau hoặc public bài làm trên Github (vì nếu làm vậy thì sẽ ảnh hưởng tới việc học của các bạn khóa sau). Nếu bạn có thể làm theo những gì mình nói thì điểm của bạn có thể sẽ không cao nhưng bạn sẽ có được những bước tiến thật sự. <font color=red>Trong trường hợp bạn vi phạm những điều mình nói ở trên thì sẽ bị 0 điểm cho toàn bộ môn học.</font>*\n",
        "\n",
        "**Cách nộp bài**\n",
        "\n",
        "Khi chấm bài, đầu tiên mình sẽ chọn `Kernel` - `Restart & Run All`, để restart và chạy tất cả các cell trong notebook của bạn; do đó, trước khi nộp bài, bạn nên chạy thử `Kernel` - `Restart & Run All` để đảm bảo mọi chuyện diễn ra đúng như mong đợi.\n",
        "\n",
        "Sau đó, bạn tạo thư mục nộp bài theo cấu trúc sau:\n",
        "- Thư mục `MSSV` (vd, nếu bạn có MSSV là 1234567 thì bạn đặt tên thư mục là `1234567`)\n",
        "    - File `Lab02_KhamPhaPhanTichDuLieu.ipynb` (không cần nộp các file khác)\n",
        "\n",
        "Cuối cùng, bạn nén thư mục `MSSV` này lại và nộp ở link trên moodle. Đuôi của file nén phải là .zip (chứ không được .rar hay gì khác).\n",
        "\n",
        "<font color=red>Bạn lưu ý tuân thủ chính xác qui định nộp bài ở trên.</font>"
      ]
    },
    {
      "cell_type": "markdown",
      "metadata": {
        "Collapsed": "false",
        "id": "e3FV0lim3V5I"
      },
      "source": [
        "---"
      ]
    },
    {
      "cell_type": "markdown",
      "metadata": {
        "id": "5bElXNke3V5J"
      },
      "source": [
        "## Import"
      ]
    },
    {
      "cell_type": "code",
      "metadata": {
        "id": "2YoiGM4a3V5K"
      },
      "source": [
        "import matplotlib.pyplot as plt\n",
        "import numpy as np\n",
        "import pandas as pd \n",
        "# YOUR CODE HERE (OPTION) \n",
        "# Nếu cần các thư viện khác thì bạn có thể import ở đây\n",
        "import warnings\n",
        "warnings.filterwarnings('ignore')"
      ],
      "execution_count": 1,
      "outputs": []
    },
    {
      "cell_type": "markdown",
      "metadata": {
        "id": "5U7h0GLV3V5N"
      },
      "source": [
        "---"
      ]
    },
    {
      "cell_type": "markdown",
      "metadata": {
        "id": "Cv94--7D3V5O"
      },
      "source": [
        "## Thu thập dữ liệu"
      ]
    },
    {
      "cell_type": "markdown",
      "metadata": {
        "id": "i8hseJlU3V5P"
      },
      "source": [
        "Dữ liệu được sử dụng trong bài tập này là dữ liệu khảo sát các lập trình viên của trang StackOverflow. Mình download dữ liệu [ở đây](https://drive.google.com/file/d/1dfGerWeWkcyQ9GX9x20rdSGj7WtEpzBB/view) và có bỏ đi một số cột để đơn giản hóa. \n",
        "\n",
        "Theo mô tả trong file \"README_2020.txt\" của StackOverflow:\n",
        ">The enclosed data set is the full, cleaned results of the 2020 Stack Overflow Developer Survey. Free response submissions and personally identifying information have been removed from the results to protect the privacy of respondents. There are three files besides this README:\n",
        ">\n",
        ">1. survey_results_public.csv - CSV file with main survey results, one respondent per row and one column per answer\n",
        ">2. survey_results_schema.csv - CSV file with survey schema, i.e., the questions that correspond to each column name\n",
        ">3. so_survey_2020.pdf - PDF file of survey instrument\n",
        ">\n",
        ">The survey was fielded from February 5 to February 28, 2020. The median time spent on the survey for qualified responses was 16.6 minutes.\n",
        ">\n",
        ">Respondents were recruited primarily through channels owned by Stack Overflow. The top 5 sources of respondents were onsite messaging, blog posts, email lists, Meta posts, banner ads, and social media posts. Since respondents were recruited in this way, highly engaged users on Stack Overflow were more likely to notice the links for the survey and click to begin it.\n",
        "\n",
        "File \"survey_results_public-short.csv\" mà mình đính kèm là phiên bản đơn giản hóa của file \"survey_results_public.csv\" (từ 61 cột, mình bỏ xuống còn 29 cột). Đây là file dữ liệu chính mà bạn sẽ làm trong bài tập này. Ngoài ra, mình còn đính kèm 2 file phụ: (1) file \"survey_results_schema-short.csv\" là file cho biết ý nghĩa của các cột, và (2) file \"so_survey_2020.pdf\" là file khảo sát gốc của StackOverflow.\n",
        "\n",
        "Để ý: \n",
        "- Dữ liệu này không đại diện được cho cộng đồng lập trình viên trên toàn thế giới, mà chỉ giới hạn trong tập những lập trình viên thực hiện khảo sát của StackOverflow. Những câu trả lời có được thông qua tập dữ liệu này cũng sẽ bị giới hạn trong phạm vi đó.\n",
        "- Dữ liệu có đúng không? Về cơ bản là ta không biết được. Ở đây, mục đích chính là học qui trình Khoa Học Dữ Liệu và các câu lệnh của Pandas nên ta sẽ **giả định** phần lớn dữ liệu là đúng và tiếp tục làm.\n",
        "\n",
        "Cũng theo file \"README_2020.txt\", dữ liệu này được StackOverflow public với license như sau:\n",
        ">This database - The Public 2020 Stack Overflow Developer Survey Results - is made available under the Open Database License (ODbL): http://opendatacommons.org/licenses/odbl/1.0/. Any rights in individual contents of the database are licensed under the Database Contents License: http://opendatacommons.org/licenses/dbcl/1.0/\n",
        ">\n",
        ">TLDR: You are free to share, adapt, and create derivative works from The Public 2020 Stack Overflow Developer Survey Results as long as you attribute Stack Overflow, keep the database open (if you redistribute it), and continue to share-alike any adapted database under the ODbl.\n"
      ]
    },
    {
      "cell_type": "markdown",
      "metadata": {
        "id": "vrOc9axb3V5Q"
      },
      "source": [
        "---"
      ]
    },
    {
      "cell_type": "markdown",
      "metadata": {
        "id": "6u1ms-ls3V5R"
      },
      "source": [
        "## Khám phá dữ liệu"
      ]
    },
    {
      "cell_type": "markdown",
      "metadata": {
        "id": "Wi7OGdwz3V5R"
      },
      "source": [
        "### Đọc dữ liệu từ file (0.25đ)"
      ]
    },
    {
      "cell_type": "markdown",
      "metadata": {
        "id": "m-oQaIdF3V5S"
      },
      "source": [
        "Đầu tiên, bạn viết code để đọc dữ liệu từ file \"survey_results_public-short.csv\" và lưu kết quả vào DataFrame `survey_df`; ta thống nhất là sẽ để file dữ liệu này cùng cấp với file notebook và khi đọc file thì chỉ truyền vào tên của file. Ngoài ra, bạn cũng cần cho cột `Respondent` (id của người làm khảo sát) làm cột index của `survey_df`."
      ]
    },
    {
      "cell_type": "code",
      "metadata": {
        "deletable": false,
        "nbgrader": {
          "cell_type": "code",
          "checksum": "0bf411943f48101b385795cb06db43f4",
          "grade": true,
          "grade_id": "cell-d46e97079096473c",
          "locked": false,
          "points": 0.25,
          "schema_version": 3,
          "solution": true,
          "task": false
        },
        "id": "vbCHXzgl3V5S"
      },
      "source": [
        "# YOUR CODE HERE\n",
        "survey_df = pd.read_csv('survey_results_public-short.csv', index_col='Respondent')"
      ],
      "execution_count": 3,
      "outputs": []
    },
    {
      "cell_type": "code",
      "metadata": {
        "colab": {
          "base_uri": "https://localhost:8080/",
          "height": 607
        },
        "id": "iGVK1rI33V5S",
        "outputId": "1bea5cc2-5321-4b50-e80c-f4d3e4e891fb"
      },
      "source": [
        "# TEST\n",
        "survey_df.head()"
      ],
      "execution_count": 4,
      "outputs": [
        {
          "output_type": "execute_result",
          "data": {
            "text/html": [
              "<div>\n",
              "<style scoped>\n",
              "    .dataframe tbody tr th:only-of-type {\n",
              "        vertical-align: middle;\n",
              "    }\n",
              "\n",
              "    .dataframe tbody tr th {\n",
              "        vertical-align: top;\n",
              "    }\n",
              "\n",
              "    .dataframe thead th {\n",
              "        text-align: right;\n",
              "    }\n",
              "</style>\n",
              "<table border=\"1\" class=\"dataframe\">\n",
              "  <thead>\n",
              "    <tr style=\"text-align: right;\">\n",
              "      <th></th>\n",
              "      <th>MainBranch</th>\n",
              "      <th>Hobbyist</th>\n",
              "      <th>Age</th>\n",
              "      <th>ConvertedComp</th>\n",
              "      <th>Country</th>\n",
              "      <th>DevType</th>\n",
              "      <th>EdLevel</th>\n",
              "      <th>Employment</th>\n",
              "      <th>Ethnicity</th>\n",
              "      <th>Gender</th>\n",
              "      <th>JobFactors</th>\n",
              "      <th>JobSat</th>\n",
              "      <th>LanguageDesireNextYear</th>\n",
              "      <th>LanguageWorkedWith</th>\n",
              "      <th>MiscTechDesireNextYear</th>\n",
              "      <th>MiscTechWorkedWith</th>\n",
              "      <th>NEWCollabToolsDesireNextYear</th>\n",
              "      <th>NEWCollabToolsWorkedWith</th>\n",
              "      <th>NEWEdImpt</th>\n",
              "      <th>NEWLearn</th>\n",
              "      <th>NEWOvertime</th>\n",
              "      <th>NEWStuck</th>\n",
              "      <th>OpSys</th>\n",
              "      <th>PlatformDesireNextYear</th>\n",
              "      <th>PlatformWorkedWith</th>\n",
              "      <th>WorkWeekHrs</th>\n",
              "      <th>YearsCode</th>\n",
              "      <th>YearsCodePro</th>\n",
              "    </tr>\n",
              "    <tr>\n",
              "      <th>Respondent</th>\n",
              "      <th></th>\n",
              "      <th></th>\n",
              "      <th></th>\n",
              "      <th></th>\n",
              "      <th></th>\n",
              "      <th></th>\n",
              "      <th></th>\n",
              "      <th></th>\n",
              "      <th></th>\n",
              "      <th></th>\n",
              "      <th></th>\n",
              "      <th></th>\n",
              "      <th></th>\n",
              "      <th></th>\n",
              "      <th></th>\n",
              "      <th></th>\n",
              "      <th></th>\n",
              "      <th></th>\n",
              "      <th></th>\n",
              "      <th></th>\n",
              "      <th></th>\n",
              "      <th></th>\n",
              "      <th></th>\n",
              "      <th></th>\n",
              "      <th></th>\n",
              "      <th></th>\n",
              "      <th></th>\n",
              "      <th></th>\n",
              "    </tr>\n",
              "  </thead>\n",
              "  <tbody>\n",
              "    <tr>\n",
              "      <th>1</th>\n",
              "      <td>I am a developer by profession</td>\n",
              "      <td>Yes</td>\n",
              "      <td>NaN</td>\n",
              "      <td>NaN</td>\n",
              "      <td>Germany</td>\n",
              "      <td>Developer, desktop or enterprise applications;...</td>\n",
              "      <td>Master’s degree (M.A., M.S., M.Eng., MBA, etc.)</td>\n",
              "      <td>Independent contractor, freelancer, or self-em...</td>\n",
              "      <td>White or of European descent</td>\n",
              "      <td>Man</td>\n",
              "      <td>Languages, frameworks, and other technologies ...</td>\n",
              "      <td>Slightly satisfied</td>\n",
              "      <td>C#;HTML/CSS;JavaScript</td>\n",
              "      <td>C#;HTML/CSS;JavaScript</td>\n",
              "      <td>.NET Core;Xamarin</td>\n",
              "      <td>.NET;.NET Core</td>\n",
              "      <td>Microsoft Teams;Microsoft Azure;Trello</td>\n",
              "      <td>Confluence;Jira;Slack;Microsoft Azure;Trello</td>\n",
              "      <td>Fairly important</td>\n",
              "      <td>Once a year</td>\n",
              "      <td>Often: 1-2 days per week or more</td>\n",
              "      <td>Visit Stack Overflow;Go for a walk or other ph...</td>\n",
              "      <td>Windows</td>\n",
              "      <td>Android;iOS;Kubernetes;Microsoft Azure;Windows</td>\n",
              "      <td>Windows</td>\n",
              "      <td>50.0</td>\n",
              "      <td>36</td>\n",
              "      <td>27</td>\n",
              "    </tr>\n",
              "    <tr>\n",
              "      <th>2</th>\n",
              "      <td>I am a developer by profession</td>\n",
              "      <td>No</td>\n",
              "      <td>NaN</td>\n",
              "      <td>NaN</td>\n",
              "      <td>United Kingdom</td>\n",
              "      <td>Developer, full-stack;Developer, mobile</td>\n",
              "      <td>Bachelor’s degree (B.A., B.S., B.Eng., etc.)</td>\n",
              "      <td>Employed full-time</td>\n",
              "      <td>NaN</td>\n",
              "      <td>NaN</td>\n",
              "      <td>NaN</td>\n",
              "      <td>Very dissatisfied</td>\n",
              "      <td>Python;Swift</td>\n",
              "      <td>JavaScript;Swift</td>\n",
              "      <td>React Native;TensorFlow;Unity 3D</td>\n",
              "      <td>React Native</td>\n",
              "      <td>Github;Slack</td>\n",
              "      <td>Confluence;Jira;Github;Gitlab;Slack</td>\n",
              "      <td>Fairly important</td>\n",
              "      <td>Once a year</td>\n",
              "      <td>NaN</td>\n",
              "      <td>Visit Stack Overflow;Go for a walk or other ph...</td>\n",
              "      <td>MacOS</td>\n",
              "      <td>iOS;Kubernetes;Linux;MacOS</td>\n",
              "      <td>iOS</td>\n",
              "      <td>NaN</td>\n",
              "      <td>7</td>\n",
              "      <td>4</td>\n",
              "    </tr>\n",
              "    <tr>\n",
              "      <th>3</th>\n",
              "      <td>I code primarily as a hobby</td>\n",
              "      <td>Yes</td>\n",
              "      <td>NaN</td>\n",
              "      <td>NaN</td>\n",
              "      <td>Russian Federation</td>\n",
              "      <td>NaN</td>\n",
              "      <td>NaN</td>\n",
              "      <td>NaN</td>\n",
              "      <td>NaN</td>\n",
              "      <td>NaN</td>\n",
              "      <td>NaN</td>\n",
              "      <td>NaN</td>\n",
              "      <td>Objective-C;Python;Swift</td>\n",
              "      <td>Objective-C;Python;Swift</td>\n",
              "      <td>NaN</td>\n",
              "      <td>NaN</td>\n",
              "      <td>NaN</td>\n",
              "      <td>NaN</td>\n",
              "      <td>NaN</td>\n",
              "      <td>Once a decade</td>\n",
              "      <td>NaN</td>\n",
              "      <td>NaN</td>\n",
              "      <td>Linux-based</td>\n",
              "      <td>NaN</td>\n",
              "      <td>NaN</td>\n",
              "      <td>NaN</td>\n",
              "      <td>4</td>\n",
              "      <td>NaN</td>\n",
              "    </tr>\n",
              "    <tr>\n",
              "      <th>4</th>\n",
              "      <td>I am a developer by profession</td>\n",
              "      <td>Yes</td>\n",
              "      <td>25.0</td>\n",
              "      <td>NaN</td>\n",
              "      <td>Albania</td>\n",
              "      <td>NaN</td>\n",
              "      <td>Master’s degree (M.A., M.S., M.Eng., MBA, etc.)</td>\n",
              "      <td>NaN</td>\n",
              "      <td>White or of European descent</td>\n",
              "      <td>Man</td>\n",
              "      <td>Flex time or a flexible schedule;Office enviro...</td>\n",
              "      <td>Slightly dissatisfied</td>\n",
              "      <td>NaN</td>\n",
              "      <td>NaN</td>\n",
              "      <td>NaN</td>\n",
              "      <td>NaN</td>\n",
              "      <td>NaN</td>\n",
              "      <td>NaN</td>\n",
              "      <td>Not at all important/not necessary</td>\n",
              "      <td>Once a year</td>\n",
              "      <td>Occasionally: 1-2 days per quarter but less th...</td>\n",
              "      <td>NaN</td>\n",
              "      <td>Linux-based</td>\n",
              "      <td>NaN</td>\n",
              "      <td>NaN</td>\n",
              "      <td>40.0</td>\n",
              "      <td>7</td>\n",
              "      <td>4</td>\n",
              "    </tr>\n",
              "    <tr>\n",
              "      <th>5</th>\n",
              "      <td>I used to be a developer by profession, but no...</td>\n",
              "      <td>Yes</td>\n",
              "      <td>31.0</td>\n",
              "      <td>NaN</td>\n",
              "      <td>United States</td>\n",
              "      <td>NaN</td>\n",
              "      <td>Bachelor’s degree (B.A., B.S., B.Eng., etc.)</td>\n",
              "      <td>Employed full-time</td>\n",
              "      <td>White or of European descent</td>\n",
              "      <td>Man</td>\n",
              "      <td>NaN</td>\n",
              "      <td>NaN</td>\n",
              "      <td>Java;Ruby;Scala</td>\n",
              "      <td>HTML/CSS;Ruby;SQL</td>\n",
              "      <td>Ansible;Chef</td>\n",
              "      <td>Ansible</td>\n",
              "      <td>Github;Google Suite (Docs, Meet, etc)</td>\n",
              "      <td>Confluence;Jira;Github;Slack;Google Suite (Doc...</td>\n",
              "      <td>Very important</td>\n",
              "      <td>Once a year</td>\n",
              "      <td>NaN</td>\n",
              "      <td>Call a coworker or friend;Visit Stack Overflow...</td>\n",
              "      <td>Windows</td>\n",
              "      <td>Docker;Google Cloud Platform;Heroku;Linux;Windows</td>\n",
              "      <td>AWS;Docker;Linux;MacOS;Windows</td>\n",
              "      <td>NaN</td>\n",
              "      <td>15</td>\n",
              "      <td>8</td>\n",
              "    </tr>\n",
              "  </tbody>\n",
              "</table>\n",
              "</div>"
            ],
            "text/plain": [
              "                                                   MainBranch  ... YearsCodePro\n",
              "Respondent                                                     ...             \n",
              "1                              I am a developer by profession  ...           27\n",
              "2                              I am a developer by profession  ...            4\n",
              "3                                 I code primarily as a hobby  ...          NaN\n",
              "4                              I am a developer by profession  ...            4\n",
              "5           I used to be a developer by profession, but no...  ...            8\n",
              "\n",
              "[5 rows x 28 columns]"
            ]
          },
          "metadata": {},
          "execution_count": 4
        }
      ]
    },
    {
      "cell_type": "markdown",
      "metadata": {
        "id": "JPviGNmP3V5T"
      },
      "source": [
        "### Dữ liệu có bao nhiêu dòng và bao nhiêu cột? (0.25đ)"
      ]
    },
    {
      "cell_type": "markdown",
      "metadata": {
        "id": "dxg4fTfb3V5T"
      },
      "source": [
        "Kế đến, bạn tính số dòng và số cột của DataFrame `survey_df` và lần lượt lưu vào biến `num_rows` và `num_cols`. "
      ]
    },
    {
      "cell_type": "code",
      "metadata": {
        "deletable": false,
        "nbgrader": {
          "cell_type": "code",
          "checksum": "607dbbe4997f90db7ca9d3e0c596d38a",
          "grade": false,
          "grade_id": "cell-8338f3610f6c5002",
          "locked": false,
          "schema_version": 3,
          "solution": true,
          "task": false
        },
        "id": "lOjiV6yS3V5T"
      },
      "source": [
        "# YOUR CODE HERE\n",
        "num_rows = survey_df.shape[0]\n",
        "num_cols = survey_df.shape[1]"
      ],
      "execution_count": 5,
      "outputs": []
    },
    {
      "cell_type": "code",
      "metadata": {
        "deletable": false,
        "editable": false,
        "nbgrader": {
          "cell_type": "code",
          "checksum": "dccad1762b5cd1a5aeb4dd971539f41d",
          "grade": true,
          "grade_id": "cell-00f00d1bba235517",
          "locked": true,
          "points": 0.25,
          "schema_version": 3,
          "solution": false,
          "task": false
        },
        "id": "vdHWYd9Q3V5T"
      },
      "source": [
        "# TEST\n",
        "assert num_rows == 64461\n",
        "assert num_cols == 28"
      ],
      "execution_count": 6,
      "outputs": []
    },
    {
      "cell_type": "markdown",
      "metadata": {
        "id": "AEOy5FPT3V5U"
      },
      "source": [
        "### Mỗi dòng có ý nghĩa gì? Có vấn đề các dòng có ý nghĩa khác nhau không?"
      ]
    },
    {
      "cell_type": "markdown",
      "metadata": {
        "id": "SDVcCTMo3V5U"
      },
      "source": [
        "Theo file \"README_2020.txt\" cũng như theo quan sát sơ bộ về dữ liệu, mỗi dòng trong DataFrame `survey_df` cho biết kết quả làm khảo sát của một người. Có vẻ không có vấn đề các dòng có ý nghĩa khác nhau. "
      ]
    },
    {
      "cell_type": "markdown",
      "metadata": {
        "id": "sbPUYjdl3V5U"
      },
      "source": [
        "### Dữ liệu có các dòng bị lặp không? (0.25đ)"
      ]
    },
    {
      "cell_type": "markdown",
      "metadata": {
        "id": "SRv3gabV3V5V"
      },
      "source": [
        "Kế đến, bạn tính số dòng có index (id của người làm khảo sát) bị lặp và lưu vào biến `num_duplicated_rows`. Trong nhóm các dòng có index giống nhau thì dòng đầu tiên không tính là bị lặp."
      ]
    },
    {
      "cell_type": "code",
      "metadata": {
        "deletable": false,
        "nbgrader": {
          "cell_type": "code",
          "checksum": "8562ed8052a1cfb4a1c033be002aa083",
          "grade": false,
          "grade_id": "cell-aadbfe12be205faa",
          "locked": false,
          "schema_version": 3,
          "solution": true,
          "task": false
        },
        "id": "PJkQeLuu3V5V"
      },
      "source": [
        "# YOUR CODE HERE\n",
        "arr_duplicated_index = survey_df.index.duplicated()\n",
        "num_duplicated_rows = len(arr_duplicated_index[arr_duplicated_index==True])"
      ],
      "execution_count": 7,
      "outputs": []
    },
    {
      "cell_type": "code",
      "metadata": {
        "deletable": false,
        "editable": false,
        "nbgrader": {
          "cell_type": "code",
          "checksum": "9cf4a1f5b657704c7ff30130242e1646",
          "grade": true,
          "grade_id": "cell-7c456d5495d4904d",
          "locked": true,
          "points": 0.25,
          "schema_version": 3,
          "solution": false,
          "task": false
        },
        "id": "kILVzpRx3V5V"
      },
      "source": [
        "# TEST\n",
        "assert num_duplicated_rows == 0"
      ],
      "execution_count": 8,
      "outputs": []
    },
    {
      "cell_type": "markdown",
      "metadata": {
        "id": "rn49QFG43V5V"
      },
      "source": [
        "### Mỗi cột có ý nghĩa gì? (0.25đ)"
      ]
    },
    {
      "cell_type": "markdown",
      "metadata": {
        "id": "Rb5MVAzx3V5V"
      },
      "source": [
        "Để xem ý nghĩa của mỗi cột thì:\n",
        "- Trước tiên, bạn cần đọc file \"survey_results_schema-short.csv\" vào DataFrame `col_meaning_df`; bạn cũng cần cho cột \"Column\" làm cột index. \n",
        "- Sau đó, bạn chỉ cần hiển thị DataFrame `col_meaning_df` ra để xem (vụ này khó nên ở dưới mình đã làm cho bạn ở cell có dòng \"# TEST\" 😉). Tuy nhiên, bạn sẽ thấy ở cột \"QuestionText\": các chuỗi mô tả bị cắt do quá dài. Do đó, trước khi hiển thị DataFrame `col_meaning_df`, bạn cũng cần chỉnh sao đó để các chuỗi mô tả không bị cắt (vụ này bạn tự search Google, gợi ý: bạn sẽ dùng đến câu lệnh `pd.set_option`).   "
      ]
    },
    {
      "cell_type": "code",
      "metadata": {
        "deletable": false,
        "nbgrader": {
          "cell_type": "code",
          "checksum": "bc5afa2bdb3831c9bfdc88a3d0aeff5b",
          "grade": true,
          "grade_id": "cell-5efb0517df207535",
          "locked": false,
          "points": 0.25,
          "schema_version": 3,
          "solution": true,
          "task": false
        },
        "id": "2lI6TafT3V5W"
      },
      "source": [
        "# YOUR CODE HERE\n",
        "col_meaning_df = pd.read_csv('survey_results_schema-short.csv', index_col='Column')\n",
        "pd.set_option('display.max_colwidth', None)"
      ],
      "execution_count": 9,
      "outputs": []
    },
    {
      "cell_type": "code",
      "metadata": {
        "colab": {
          "base_uri": "https://localhost:8080/",
          "height": 1000
        },
        "id": "IqC-2lkh3V5W",
        "outputId": "6d41e896-4933-42f3-e75b-2b3d4a1b503c"
      },
      "source": [
        "# TEST\n",
        "col_meaning_df"
      ],
      "execution_count": 10,
      "outputs": [
        {
          "output_type": "execute_result",
          "data": {
            "text/html": [
              "<div>\n",
              "<style scoped>\n",
              "    .dataframe tbody tr th:only-of-type {\n",
              "        vertical-align: middle;\n",
              "    }\n",
              "\n",
              "    .dataframe tbody tr th {\n",
              "        vertical-align: top;\n",
              "    }\n",
              "\n",
              "    .dataframe thead th {\n",
              "        text-align: right;\n",
              "    }\n",
              "</style>\n",
              "<table border=\"1\" class=\"dataframe\">\n",
              "  <thead>\n",
              "    <tr style=\"text-align: right;\">\n",
              "      <th></th>\n",
              "      <th>QuestionText</th>\n",
              "    </tr>\n",
              "    <tr>\n",
              "      <th>Column</th>\n",
              "      <th></th>\n",
              "    </tr>\n",
              "  </thead>\n",
              "  <tbody>\n",
              "    <tr>\n",
              "      <th>Respondent</th>\n",
              "      <td>Randomized respondent ID number (not in order of survey response time)</td>\n",
              "    </tr>\n",
              "    <tr>\n",
              "      <th>MainBranch</th>\n",
              "      <td>Which of the following options best describes you today? Here, by \"developer\" we mean \"someone who writes code.\"</td>\n",
              "    </tr>\n",
              "    <tr>\n",
              "      <th>Hobbyist</th>\n",
              "      <td>Do you code as a hobby?</td>\n",
              "    </tr>\n",
              "    <tr>\n",
              "      <th>Age</th>\n",
              "      <td>What is your age (in years)? If you prefer not to answer, you may leave this question blank.</td>\n",
              "    </tr>\n",
              "    <tr>\n",
              "      <th>ConvertedComp</th>\n",
              "      <td>Salary converted to annual USD salaries using the exchange rate on 2020-02-19, assuming 12 working months and 50 working weeks.</td>\n",
              "    </tr>\n",
              "    <tr>\n",
              "      <th>Country</th>\n",
              "      <td>Where do you live?</td>\n",
              "    </tr>\n",
              "    <tr>\n",
              "      <th>DevType</th>\n",
              "      <td>Which of the following describe you? Please select all that apply.</td>\n",
              "    </tr>\n",
              "    <tr>\n",
              "      <th>EdLevel</th>\n",
              "      <td>Which of the following best describes the highest level of formal education that you’ve completed?</td>\n",
              "    </tr>\n",
              "    <tr>\n",
              "      <th>Employment</th>\n",
              "      <td>Which of the following best describes your current employment status?</td>\n",
              "    </tr>\n",
              "    <tr>\n",
              "      <th>Ethnicity</th>\n",
              "      <td>Which of the following describe you, if any? Please check all that apply. If you prefer not to answer, you may leave this question blank.</td>\n",
              "    </tr>\n",
              "    <tr>\n",
              "      <th>Gender</th>\n",
              "      <td>Which of the following describe you, if any? Please check all that apply. If you prefer not to answer, you may leave this question blank.</td>\n",
              "    </tr>\n",
              "    <tr>\n",
              "      <th>JobFactors</th>\n",
              "      <td>Imagine that you are deciding between two job offers with the same compensation, benefits, and location. Of the following factors, which 3 are MOST important to you?</td>\n",
              "    </tr>\n",
              "    <tr>\n",
              "      <th>JobSat</th>\n",
              "      <td>How satisfied are you with your current job? (If you work multiple jobs, answer for the one you spend the most hours on.)</td>\n",
              "    </tr>\n",
              "    <tr>\n",
              "      <th>LanguageDesireNextYear</th>\n",
              "      <td>Which programming, scripting, and markup languages have you done extensive development work in over the past year, and which do you want to work in over the next year? (If you both worked with the language and want to continue to do so, please check both boxes in that row.)</td>\n",
              "    </tr>\n",
              "    <tr>\n",
              "      <th>LanguageWorkedWith</th>\n",
              "      <td>Which programming, scripting, and markup languages have you done extensive development work in over the past year, and which do you want to work in over the next year? (If you both worked with the language and want to continue to do so, please check both boxes in that row.)</td>\n",
              "    </tr>\n",
              "    <tr>\n",
              "      <th>MiscTechDesireNextYear</th>\n",
              "      <td>Which other frameworks, libraries, and tools have you done extensive development work in over the past year, and which do you want to work in over the next year? (If you both worked with the framework and want to continue to do so, please check both boxes in that row.)</td>\n",
              "    </tr>\n",
              "    <tr>\n",
              "      <th>MiscTechWorkedWith</th>\n",
              "      <td>Which other frameworks, libraries, and tools have you done extensive development work in over the past year, and which do you want to work in over the next year? (If you both worked with the framework and want to continue to do so, please check both boxes in that row.)</td>\n",
              "    </tr>\n",
              "    <tr>\n",
              "      <th>NEWCollabToolsDesireNextYear</th>\n",
              "      <td>Which collaboration tools have you done extensive development work in over the past year, and which do you want to work in over the next year? (If you worked with the tool and want to continue to do so, please check both boxes in that row.)</td>\n",
              "    </tr>\n",
              "    <tr>\n",
              "      <th>NEWCollabToolsWorkedWith</th>\n",
              "      <td>Which collaboration tools have you done extensive development work in over the past year, and which do you want to work in over the next year? (If you worked with the tool and want to continue to do so, please check both boxes in that row.)</td>\n",
              "    </tr>\n",
              "    <tr>\n",
              "      <th>NEWEdImpt</th>\n",
              "      <td>How important is a formal education, such as a university degree in computer science, to your career?</td>\n",
              "    </tr>\n",
              "    <tr>\n",
              "      <th>NEWLearn</th>\n",
              "      <td>How frequently do you learn a new language or framework?</td>\n",
              "    </tr>\n",
              "    <tr>\n",
              "      <th>NEWOvertime</th>\n",
              "      <td>How often do you work overtime or beyond the formal time expectation of your job?</td>\n",
              "    </tr>\n",
              "    <tr>\n",
              "      <th>NEWStuck</th>\n",
              "      <td>What do you do when you get stuck on a problem? Select all that apply.</td>\n",
              "    </tr>\n",
              "    <tr>\n",
              "      <th>OpSys</th>\n",
              "      <td>What is the primary operating system in which you work?</td>\n",
              "    </tr>\n",
              "    <tr>\n",
              "      <th>PlatformDesireNextYear</th>\n",
              "      <td>Which platforms have you done extensive development work in over the past year, and which do you want to work in over the next year? (If you both worked with the platform and want to continue to do so, please check both boxes in that row.)</td>\n",
              "    </tr>\n",
              "    <tr>\n",
              "      <th>PlatformWorkedWith</th>\n",
              "      <td>Which platforms have you done extensive development work in over the past year, and which do you want to work in over the next year? (If you both worked with the platform and want to continue to do so, please check both boxes in that row.)</td>\n",
              "    </tr>\n",
              "    <tr>\n",
              "      <th>WorkWeekHrs</th>\n",
              "      <td>On average, how many hours per week do you work? Please enter a whole number in the box.</td>\n",
              "    </tr>\n",
              "    <tr>\n",
              "      <th>YearsCode</th>\n",
              "      <td>Including any education, how many years have you been coding in total?</td>\n",
              "    </tr>\n",
              "    <tr>\n",
              "      <th>YearsCodePro</th>\n",
              "      <td>NOT including education, how many years have you coded professionally (as a part of your work)?</td>\n",
              "    </tr>\n",
              "  </tbody>\n",
              "</table>\n",
              "</div>"
            ],
            "text/plain": [
              "                                                                                                                                                                                                                                                                                                    QuestionText\n",
              "Column                                                                                                                                                                                                                                                                                                          \n",
              "Respondent                                                                                                                                                                                                                                Randomized respondent ID number (not in order of survey response time)\n",
              "MainBranch                                                                                                                                                                                      Which of the following options best describes you today? Here, by \"developer\" we mean \"someone who writes code.\"\n",
              "Hobbyist                                                                                                                                                                                                                                                                                 Do you code as a hobby?\n",
              "Age                                                                                                                                                                                                                 What is your age (in years)? If you prefer not to answer, you may leave this question blank.\n",
              "ConvertedComp                                                                                                                                                                    Salary converted to annual USD salaries using the exchange rate on 2020-02-19, assuming 12 working months and 50 working weeks.\n",
              "Country                                                                                                                                                                                                                                                                                       Where do you live?\n",
              "DevType                                                                                                                                                                                                                                       Which of the following describe you? Please select all that apply.\n",
              "EdLevel                                                                                                                                                                                                       Which of the following best describes the highest level of formal education that you’ve completed?\n",
              "Employment                                                                                                                                                                                                                                 Which of the following best describes your current employment status?\n",
              "Ethnicity                                                                                                                                                              Which of the following describe you, if any? Please check all that apply. If you prefer not to answer, you may leave this question blank.\n",
              "Gender                                                                                                                                                                 Which of the following describe you, if any? Please check all that apply. If you prefer not to answer, you may leave this question blank.\n",
              "JobFactors                                                                                                                                 Imagine that you are deciding between two job offers with the same compensation, benefits, and location. Of the following factors, which 3 are MOST important to you?\n",
              "JobSat                                                                                                                                                                                 How satisfied are you with your current job? (If you work multiple jobs, answer for the one you spend the most hours on.)\n",
              "LanguageDesireNextYear        Which programming, scripting, and markup languages have you done extensive development work in over the past year, and which do you want to work in over the next year? (If you both worked with the language and want to continue to do so, please check both boxes in that row.)\n",
              "LanguageWorkedWith            Which programming, scripting, and markup languages have you done extensive development work in over the past year, and which do you want to work in over the next year? (If you both worked with the language and want to continue to do so, please check both boxes in that row.)\n",
              "MiscTechDesireNextYear             Which other frameworks, libraries, and tools have you done extensive development work in over the past year, and which do you want to work in over the next year? (If you both worked with the framework and want to continue to do so, please check both boxes in that row.)\n",
              "MiscTechWorkedWith                 Which other frameworks, libraries, and tools have you done extensive development work in over the past year, and which do you want to work in over the next year? (If you both worked with the framework and want to continue to do so, please check both boxes in that row.)\n",
              "NEWCollabToolsDesireNextYear                                    Which collaboration tools have you done extensive development work in over the past year, and which do you want to work in over the next year? (If you worked with the tool and want to continue to do so, please check both boxes in that row.)\n",
              "NEWCollabToolsWorkedWith                                        Which collaboration tools have you done extensive development work in over the past year, and which do you want to work in over the next year? (If you worked with the tool and want to continue to do so, please check both boxes in that row.)\n",
              "NEWEdImpt                                                                                                                                                                                                  How important is a formal education, such as a university degree in computer science, to your career?\n",
              "NEWLearn                                                                                                                                                                                                                                                How frequently do you learn a new language or framework?\n",
              "NEWOvertime                                                                                                                                                                                                                    How often do you work overtime or beyond the formal time expectation of your job?\n",
              "NEWStuck                                                                                                                                                                                                                                  What do you do when you get stuck on a problem? Select all that apply.\n",
              "OpSys                                                                                                                                                                                                                                                    What is the primary operating system in which you work?\n",
              "PlatformDesireNextYear                                           Which platforms have you done extensive development work in over the past year, and which do you want to work in over the next year? (If you both worked with the platform and want to continue to do so, please check both boxes in that row.)\n",
              "PlatformWorkedWith                                               Which platforms have you done extensive development work in over the past year, and which do you want to work in over the next year? (If you both worked with the platform and want to continue to do so, please check both boxes in that row.)\n",
              "WorkWeekHrs                                                                                                                                                                                                             On average, how many hours per week do you work? Please enter a whole number in the box.\n",
              "YearsCode                                                                                                                                                                                                                                 Including any education, how many years have you been coding in total?\n",
              "YearsCodePro                                                                                                                                                                                                     NOT including education, how many years have you coded professionally (as a part of your work)?"
            ]
          },
          "metadata": {},
          "execution_count": 10
        }
      ]
    },
    {
      "cell_type": "markdown",
      "metadata": {
        "id": "3-mU6Y3f3V5W"
      },
      "source": [
        "Trước khi đi tiếp, bạn nên đọc kết quả hiển thị ở trên và đảm bảo là bạn đã hiểu ý nghĩa của các cột. Để hiểu ý nghĩa của cột, có thể bạn sẽ cần xem thêm các giá trị của cột bên DataFrame `survey_df`. "
      ]
    },
    {
      "cell_type": "markdown",
      "metadata": {
        "id": "eFDdDUw63V5X"
      },
      "source": [
        "### Mỗi cột hiện đang có kiểu dữ liệu gì? Có cột nào có kiểu dữ liệu chưa phù hợp để có thể xử lý tiếp không? (0.25đ)"
      ]
    },
    {
      "cell_type": "markdown",
      "metadata": {
        "id": "cQg-aiWZ3V5X"
      },
      "source": [
        "Kế đến, bạn tính kiểu dữ liệu (dtype) của mỗi cột trong DataFrame `survey_df` và lưu kết quả vào Series `dtypes` (Series này có index là tên cột). "
      ]
    },
    {
      "cell_type": "code",
      "metadata": {
        "deletable": false,
        "nbgrader": {
          "cell_type": "code",
          "checksum": "2ecb5b8df41e1b29c852e2e5dd13b893",
          "grade": false,
          "grade_id": "cell-206c19691b1a6c05",
          "locked": false,
          "schema_version": 3,
          "solution": true,
          "task": false
        },
        "colab": {
          "base_uri": "https://localhost:8080/"
        },
        "id": "OLEdEudZ3V5X",
        "outputId": "e2315e82-582f-4126-82db-fea9e81b7ac4"
      },
      "source": [
        "# YOUR CODE HERE\n",
        "dtypes = survey_df.dtypes\n",
        "dtypes"
      ],
      "execution_count": 11,
      "outputs": [
        {
          "output_type": "execute_result",
          "data": {
            "text/plain": [
              "MainBranch                       object\n",
              "Hobbyist                         object\n",
              "Age                             float64\n",
              "ConvertedComp                   float64\n",
              "Country                          object\n",
              "DevType                          object\n",
              "EdLevel                          object\n",
              "Employment                       object\n",
              "Ethnicity                        object\n",
              "Gender                           object\n",
              "JobFactors                       object\n",
              "JobSat                           object\n",
              "LanguageDesireNextYear           object\n",
              "LanguageWorkedWith               object\n",
              "MiscTechDesireNextYear           object\n",
              "MiscTechWorkedWith               object\n",
              "NEWCollabToolsDesireNextYear     object\n",
              "NEWCollabToolsWorkedWith         object\n",
              "NEWEdImpt                        object\n",
              "NEWLearn                         object\n",
              "NEWOvertime                      object\n",
              "NEWStuck                         object\n",
              "OpSys                            object\n",
              "PlatformDesireNextYear           object\n",
              "PlatformWorkedWith               object\n",
              "WorkWeekHrs                     float64\n",
              "YearsCode                        object\n",
              "YearsCodePro                     object\n",
              "dtype: object"
            ]
          },
          "metadata": {},
          "execution_count": 11
        }
      ]
    },
    {
      "cell_type": "code",
      "metadata": {
        "deletable": false,
        "editable": false,
        "nbgrader": {
          "cell_type": "code",
          "checksum": "ac6951bf9ae5d429dd8c2fbeb9d17832",
          "grade": true,
          "grade_id": "cell-3ebcf8f07733605b",
          "locked": true,
          "points": 0.25,
          "schema_version": 3,
          "solution": false,
          "task": false
        },
        "id": "CzXDJfL53V5X"
      },
      "source": [
        "# TEST\n",
        "float_cols = set(dtypes[(dtypes==np.float32) | (dtypes==np.float64)].index)\n",
        "assert float_cols == {'Age', 'ConvertedComp', 'WorkWeekHrs'}\n",
        "object_cols = set(dtypes[dtypes == object].index)\n",
        "assert len(object_cols) == 25"
      ],
      "execution_count": 12,
      "outputs": []
    },
    {
      "cell_type": "markdown",
      "metadata": {
        "id": "MJ1pvcrl3V5X"
      },
      "source": [
        "Như bạn có thể thấy, cột \"YearsCode\" và \"YearsCodePro\" nên có kiểu dữ liệu số, nhưng hiện giờ đang có kiểu dữ liệu object. Ta hãy thử xem thêm về các giá trị 2 cột này. "
      ]
    },
    {
      "cell_type": "code",
      "metadata": {
        "colab": {
          "base_uri": "https://localhost:8080/"
        },
        "id": "NJCFqmp63V5Y",
        "outputId": "814fc513-f7cf-44fa-82a7-59297f036fd4"
      },
      "source": [
        "survey_df['YearsCode'].unique()"
      ],
      "execution_count": 13,
      "outputs": [
        {
          "output_type": "execute_result",
          "data": {
            "text/plain": [
              "array(['36', '7', '4', '15', '6', '17', '8', '10', '35', '5', '37', '19',\n",
              "       '9', '22', '30', '23', '20', '2', 'Less than 1 year', '3', '13',\n",
              "       '25', '16', '43', '11', '38', '33', nan, '24', '21', '12', '40',\n",
              "       '27', '50', '46', '14', '18', '28', '32', '44', '26', '42', '31',\n",
              "       '34', '29', '1', '39', '41', '45', 'More than 50 years', '47',\n",
              "       '49', '48'], dtype=object)"
            ]
          },
          "metadata": {},
          "execution_count": 13
        }
      ]
    },
    {
      "cell_type": "code",
      "metadata": {
        "colab": {
          "base_uri": "https://localhost:8080/"
        },
        "id": "clvOMXga3V5Y",
        "outputId": "ebe7a0aa-2188-4ad6-da2c-c62478de633e"
      },
      "source": [
        "survey_df['YearsCodePro'].unique()"
      ],
      "execution_count": 14,
      "outputs": [
        {
          "output_type": "execute_result",
          "data": {
            "text/plain": [
              "array(['27', '4', nan, '8', '13', '2', '7', '20', '1', '23', '3', '12',\n",
              "       '17', '18', '10', '14', '29', '6', '28', '9', '15', '11', '16',\n",
              "       '25', 'Less than 1 year', '5', '21', '19', '35', '24', '32', '22',\n",
              "       '30', '38', '26', '40', '33', '31', 'More than 50 years', '34',\n",
              "       '36', '39', '37', '41', '45', '47', '42', '46', '50', '43', '44',\n",
              "       '48', '49'], dtype=object)"
            ]
          },
          "metadata": {},
          "execution_count": 14
        }
      ]
    },
    {
      "cell_type": "markdown",
      "metadata": {
        "id": "FtRf5fXs3V5Y"
      },
      "source": [
        "Ta nên đưa 2 cột này về dạng số để có thể tiếp tục khám phá (tính min, median, max, ...)."
      ]
    },
    {
      "cell_type": "markdown",
      "metadata": {
        "id": "S1uaNeRU3V5Y"
      },
      "source": [
        "---"
      ]
    },
    {
      "cell_type": "markdown",
      "metadata": {
        "id": "z-KvLUTP3V5Y"
      },
      "source": [
        "## Tiền xử lý (0.5đ)"
      ]
    },
    {
      "cell_type": "markdown",
      "metadata": {
        "id": "ifJ4hJL03V5Z"
      },
      "source": [
        "Bạn sẽ thực hiện tiền xử lý để chuyển 2 cột \"YearsCode\" và \"YearsCodePro\" về dạng số (float). Trong đó: \"Less than 1 year\" $\\to$ 0, \"More than 50 years\" $\\to$ 51. Sau khi chuyển thì `survey_df.dtypes` sẽ thay đổi."
      ]
    },
    {
      "cell_type": "code",
      "metadata": {
        "deletable": false,
        "nbgrader": {
          "cell_type": "code",
          "checksum": "b12c49ae100fb58e51939537b8f7af48",
          "grade": false,
          "grade_id": "cell-cfc7d3af0fb5edec",
          "locked": false,
          "schema_version": 3,
          "solution": true,
          "task": false
        },
        "colab": {
          "base_uri": "https://localhost:8080/"
        },
        "id": "NxlRTJ0S3V5Z",
        "outputId": "d367f643-2d05-4082-fb6c-b6083082f64d"
      },
      "source": [
        "# YOUR CODE HERE\n",
        "map_yearcode = {\"Less than 1 year\": 0, \"More than 50 years\": 51}\n",
        "\n",
        "survey_df['YearsCode'] = survey_df['YearsCode'].map(map_yearcode).fillna(survey_df['YearsCode']).astype(float)\n",
        "survey_df['YearsCodePro'] = survey_df['YearsCodePro'].map(map_yearcode).fillna(survey_df['YearsCodePro']).astype(float)\n",
        "survey_df.dtypes"
      ],
      "execution_count": 15,
      "outputs": [
        {
          "output_type": "execute_result",
          "data": {
            "text/plain": [
              "MainBranch                       object\n",
              "Hobbyist                         object\n",
              "Age                             float64\n",
              "ConvertedComp                   float64\n",
              "Country                          object\n",
              "DevType                          object\n",
              "EdLevel                          object\n",
              "Employment                       object\n",
              "Ethnicity                        object\n",
              "Gender                           object\n",
              "JobFactors                       object\n",
              "JobSat                           object\n",
              "LanguageDesireNextYear           object\n",
              "LanguageWorkedWith               object\n",
              "MiscTechDesireNextYear           object\n",
              "MiscTechWorkedWith               object\n",
              "NEWCollabToolsDesireNextYear     object\n",
              "NEWCollabToolsWorkedWith         object\n",
              "NEWEdImpt                        object\n",
              "NEWLearn                         object\n",
              "NEWOvertime                      object\n",
              "NEWStuck                         object\n",
              "OpSys                            object\n",
              "PlatformDesireNextYear           object\n",
              "PlatformWorkedWith               object\n",
              "WorkWeekHrs                     float64\n",
              "YearsCode                       float64\n",
              "YearsCodePro                    float64\n",
              "dtype: object"
            ]
          },
          "metadata": {},
          "execution_count": 15
        }
      ]
    },
    {
      "cell_type": "code",
      "metadata": {
        "deletable": false,
        "editable": false,
        "nbgrader": {
          "cell_type": "code",
          "checksum": "8a6ac7a184baa06b11ff89d9402fed23",
          "grade": true,
          "grade_id": "cell-4ee41f84604837a1",
          "locked": true,
          "points": 0.5,
          "schema_version": 3,
          "solution": false,
          "task": false
        },
        "id": "ZUwZ4i_f3V5Z"
      },
      "source": [
        "# TEST\n",
        "assert survey_df['YearsCode'].dtype in [np.float32, np.float64]\n",
        "assert survey_df['YearsCodePro'].dtype in [np.float32, np.float64]"
      ],
      "execution_count": 17,
      "outputs": []
    },
    {
      "cell_type": "markdown",
      "metadata": {
        "id": "lOq8ohq93V5Z"
      },
      "source": [
        "---"
      ]
    },
    {
      "cell_type": "markdown",
      "metadata": {
        "id": "HngJHg6O3V5Z"
      },
      "source": [
        "## Quay lại bước khám phá dữ liệu "
      ]
    },
    {
      "cell_type": "markdown",
      "metadata": {
        "id": "m6jwtzT13V5Z"
      },
      "source": [
        "### Với mỗi cột có kiểu dữ liệu dạng số, các giá trị được phân bố như thế nào? (1đ)\n",
        "\n",
        "(Trong đó: phần tính các mô tả của mỗi cột chiếm 0.5đ, phần tính số lượng giá trị không hợp lệ của mỗi cột chiếm 0.5đ)"
      ]
    },
    {
      "cell_type": "markdown",
      "metadata": {
        "id": "c5LHL1Px3V5a"
      },
      "source": [
        "Với các cột có kiểu dữ liệu số, bạn sẽ tính:\n",
        "- Tỉ lệ % (từ 0 đến 100) các giá trị thiếu \n",
        "- Giá trị min\n",
        "- Giá trị lower quartile (phân vị 25)\n",
        "- Giá trị median (phân vị 50)\n",
        "- Giá trị upper quartile (phân vị 75)\n",
        "- Giá trị max\n",
        "\n",
        "Bạn sẽ lưu kết quả vào DataFrame `nume_col_info_df`, trong đó: \n",
        "- Tên của các cột là tên của các cột số trong `survey_df`\n",
        "- Tên của các dòng là: \"missing_percentage\", \"min\", \"lower_quartile\", \"median\", \"upper_quartile\", \"max\"  \n",
        "\n",
        "Để dễ nhìn, tất cả các giá trị bạn đều làm tròn với 1 chữ số thập phân bằng phương thức `.round(1)`."
      ]
    },
    {
      "cell_type": "code",
      "metadata": {
        "deletable": false,
        "nbgrader": {
          "cell_type": "code",
          "checksum": "442122ad4ec86e8b7f1a9c4ecca1f6e7",
          "grade": false,
          "grade_id": "cell-d1503f01712c873a",
          "locked": false,
          "schema_version": 3,
          "solution": true,
          "task": false
        },
        "colab": {
          "base_uri": "https://localhost:8080/",
          "height": 230
        },
        "id": "jVQDek233V5a",
        "outputId": "35a6f7a2-6ffa-4a40-a37f-6aa5ca9761ca"
      },
      "source": [
        "# YOUR CODE HERE\n",
        "nume_col_info_df = survey_df.describe(include=np.number).drop(['mean', 'std'])\n",
        "nume_col_info_df.loc['count'] =  100 - nume_col_info_df.loc['count'] / len(survey_df) * 100\n",
        "nume_col_info_df = nume_col_info_df.rename(index={'count':'missing_percentage','25%':'lower_quartile','50%':'median','75%':'upper_quartile'}).round(1)\n",
        "nume_col_info_df"
      ],
      "execution_count": 18,
      "outputs": [
        {
          "output_type": "execute_result",
          "data": {
            "text/html": [
              "<div>\n",
              "<style scoped>\n",
              "    .dataframe tbody tr th:only-of-type {\n",
              "        vertical-align: middle;\n",
              "    }\n",
              "\n",
              "    .dataframe tbody tr th {\n",
              "        vertical-align: top;\n",
              "    }\n",
              "\n",
              "    .dataframe thead th {\n",
              "        text-align: right;\n",
              "    }\n",
              "</style>\n",
              "<table border=\"1\" class=\"dataframe\">\n",
              "  <thead>\n",
              "    <tr style=\"text-align: right;\">\n",
              "      <th></th>\n",
              "      <th>Age</th>\n",
              "      <th>ConvertedComp</th>\n",
              "      <th>WorkWeekHrs</th>\n",
              "      <th>YearsCode</th>\n",
              "      <th>YearsCodePro</th>\n",
              "    </tr>\n",
              "  </thead>\n",
              "  <tbody>\n",
              "    <tr>\n",
              "      <th>missing_percentage</th>\n",
              "      <td>29.5</td>\n",
              "      <td>46.1</td>\n",
              "      <td>36.2</td>\n",
              "      <td>10.5</td>\n",
              "      <td>28.1</td>\n",
              "    </tr>\n",
              "    <tr>\n",
              "      <th>min</th>\n",
              "      <td>1.0</td>\n",
              "      <td>0.0</td>\n",
              "      <td>1.0</td>\n",
              "      <td>0.0</td>\n",
              "      <td>0.0</td>\n",
              "    </tr>\n",
              "    <tr>\n",
              "      <th>lower_quartile</th>\n",
              "      <td>24.0</td>\n",
              "      <td>24648.0</td>\n",
              "      <td>40.0</td>\n",
              "      <td>6.0</td>\n",
              "      <td>3.0</td>\n",
              "    </tr>\n",
              "    <tr>\n",
              "      <th>median</th>\n",
              "      <td>29.0</td>\n",
              "      <td>54049.0</td>\n",
              "      <td>40.0</td>\n",
              "      <td>10.0</td>\n",
              "      <td>6.0</td>\n",
              "    </tr>\n",
              "    <tr>\n",
              "      <th>upper_quartile</th>\n",
              "      <td>35.0</td>\n",
              "      <td>95000.0</td>\n",
              "      <td>44.0</td>\n",
              "      <td>17.0</td>\n",
              "      <td>12.0</td>\n",
              "    </tr>\n",
              "    <tr>\n",
              "      <th>max</th>\n",
              "      <td>279.0</td>\n",
              "      <td>2000000.0</td>\n",
              "      <td>475.0</td>\n",
              "      <td>51.0</td>\n",
              "      <td>51.0</td>\n",
              "    </tr>\n",
              "  </tbody>\n",
              "</table>\n",
              "</div>"
            ],
            "text/plain": [
              "                      Age  ConvertedComp  WorkWeekHrs  YearsCode  YearsCodePro\n",
              "missing_percentage   29.5           46.1         36.2       10.5          28.1\n",
              "min                   1.0            0.0          1.0        0.0           0.0\n",
              "lower_quartile       24.0        24648.0         40.0        6.0           3.0\n",
              "median               29.0        54049.0         40.0       10.0           6.0\n",
              "upper_quartile       35.0        95000.0         44.0       17.0          12.0\n",
              "max                 279.0      2000000.0        475.0       51.0          51.0"
            ]
          },
          "metadata": {},
          "execution_count": 18
        }
      ]
    },
    {
      "cell_type": "code",
      "metadata": {
        "deletable": false,
        "editable": false,
        "nbgrader": {
          "cell_type": "code",
          "checksum": "d882c48546d8d70df000f2ac28c8ce0c",
          "grade": true,
          "grade_id": "cell-b19aff83344102f8",
          "locked": true,
          "points": 0.5,
          "schema_version": 3,
          "solution": false,
          "task": false
        },
        "id": "k56wHBth3V5a"
      },
      "source": [
        "# TEST\n",
        "assert nume_col_info_df.shape == (6, 5)\n",
        "data = nume_col_info_df.loc[['missing_percentage', 'min', 'lower_quartile', 'median', 'upper_quartile', 'max'],\n",
        "                           ['Age', 'ConvertedComp', 'WorkWeekHrs', 'YearsCode', 'YearsCodePro']].values\n",
        "correct_data = np.array([[     29.5,      46.1,      36.2,      10.5,      28.1],\n",
        "                         [      1. ,       0. ,       1. ,       0. ,       0. ],\n",
        "                         [     24. ,   24648. ,      40. ,       6. ,       3. ],\n",
        "                         [     29. ,   54049. ,      40. ,      10. ,       6. ],\n",
        "                         [     35. ,   95000. ,      44. ,      17. ,      12. ],\n",
        "                         [    279. , 2000000. ,     475. ,      51. ,      51. ]])\n",
        "assert np.array_equal(data, correct_data)"
      ],
      "execution_count": 19,
      "outputs": []
    },
    {
      "cell_type": "markdown",
      "metadata": {
        "id": "THtZ4Pdl3V5a"
      },
      "source": [
        "**Có giá trị không hợp lệ trong mỗi cột không? (không xét giá trị thiếu)**\n",
        "- Cột \"Age\": bạn hãy tính số lượng giá trị không hợp lệ của cột \"Age\" (< giá trị tương ứng trong cột \"YearsCode\" HOẶC < giá trị tương ứng trong cột \"YearsCodePro\") và lưu kết quả vào biến `num_invalid_Age_vals`.\n",
        "- Cột \"WorkWeekHrs\" (số giờ làm việc trung bình một tuần): ta thấy max là 475 giờ! Trong khi đó, 7 ngày * 24 giờ = 168 giờ! Bạn hãy tính số lượng giá trị không hợp lệ của cột \"WorkWeekHrs\" (> 24 * 7) và lưu kết quả vào biến `num_invalid_WorkWeekHrs`.\n",
        "- Cột \"YearsCode\": bạn hãy tính số lượng giá trị không hợp lệ của cột \"YearsCode\" (< giá trị tương ứng trong cột \"YearsCodePro\" HOẶC > giá trị tương ứng trong cột \"Age\") và lưu kết quả vào biến `num_invalid_YearsCode`.\n",
        "- Cột \"YearsCodePro\": bạn hãy tính số lượng giá trị không hợp lệ của cột \"YearsCodePro\" (> giá trị tương ứng trong cột \"YearsCode\" HOẶC > giá trị tương ứng trong cột \"Age\") và lưu kết quả vào biến `num_invalid_YearsCodePro`."
      ]
    },
    {
      "cell_type": "code",
      "metadata": {
        "deletable": false,
        "nbgrader": {
          "cell_type": "code",
          "checksum": "90f9bb6ed444c8392723dd5aca893623",
          "grade": false,
          "grade_id": "cell-59a58bdc5f54bb25",
          "locked": false,
          "schema_version": 3,
          "solution": true,
          "task": false
        },
        "id": "7opn0Vtc3V5a"
      },
      "source": [
        "# YOUR CODE HERE\n",
        "index_invalid_Age_vals =  survey_df.loc[(survey_df['Age'] < survey_df['YearsCode']) | (survey_df['Age'] < survey_df['YearsCodePro'])].index\n",
        "index_invalid_WorkWeekHrs_vals = survey_df.loc[survey_df['WorkWeekHrs'] > 24*7].index\n",
        "index_invalid_YearsCode_vals = survey_df.loc[(survey_df['YearsCode'] < survey_df['YearsCodePro']) | (survey_df['YearsCode'] > survey_df['Age'])].index\n",
        "index_invalid_YearsCodePro_vals = survey_df.loc[(survey_df['YearsCodePro'] > survey_df['YearsCode']) | (survey_df['YearsCodePro'] > survey_df['Age'])].index\n",
        "\n",
        "num_invalid_Age_vals = len(index_invalid_Age_vals)\n",
        "num_invalid_WorkWeekHrs_vals = len(index_invalid_WorkWeekHrs_vals)\n",
        "num_invalid_YearsCode_vals = len(index_invalid_YearsCode_vals)\n",
        "num_invalid_YearsCodePro_vals = len(index_invalid_YearsCodePro_vals)"
      ],
      "execution_count": 20,
      "outputs": []
    },
    {
      "cell_type": "code",
      "metadata": {
        "deletable": false,
        "editable": false,
        "nbgrader": {
          "cell_type": "code",
          "checksum": "d077cbc3ef8d27ae7380e560cf825ccf",
          "grade": true,
          "grade_id": "cell-386769471c5b4b8f",
          "locked": true,
          "points": 0.5,
          "schema_version": 3,
          "solution": false,
          "task": false
        },
        "id": "UwFqSuDc3V5b"
      },
      "source": [
        "# TEST\n",
        "assert num_invalid_WorkWeekHrs_vals == 62\n",
        "assert num_invalid_Age_vals == 16\n",
        "assert num_invalid_YearsCode_vals == 499\n",
        "assert num_invalid_YearsCodePro_vals == 486"
      ],
      "execution_count": 21,
      "outputs": []
    },
    {
      "cell_type": "markdown",
      "metadata": {
        "id": "J8vgLQah3V5b"
      },
      "source": [
        "Do số lượng các giá trị không hợp lệ cũng khá ít nên ta có thể tiền xử lý bằng cách xóa các dòng chứa các giá trị không hợp lệ."
      ]
    },
    {
      "cell_type": "markdown",
      "metadata": {
        "id": "jA71VVcn3V5b"
      },
      "source": [
        "---"
      ]
    },
    {
      "cell_type": "markdown",
      "metadata": {
        "id": "0LvRBs0f3V5b"
      },
      "source": [
        "## Tiền xử lý (0.5đ)"
      ]
    },
    {
      "cell_type": "markdown",
      "metadata": {
        "id": "KIh-Fjwl3V5b"
      },
      "source": [
        "Bạn sẽ thực hiện tiền xử lý để xóa đi các dòng của DataFrame `survey_df` mà chứa ít nhất là một giá trị không hợp lệ. Sau khi tiền xử lý thì `survey_df` sẽ thay đổi. "
      ]
    },
    {
      "cell_type": "code",
      "metadata": {
        "deletable": false,
        "nbgrader": {
          "cell_type": "code",
          "checksum": "ce7e1b5a79e5743055a026055a75c175",
          "grade": false,
          "grade_id": "cell-6a6242ef6d2c8c65",
          "locked": false,
          "schema_version": 3,
          "solution": true,
          "task": false
        },
        "id": "pkK7BJRs3V5b"
      },
      "source": [
        "# YOUR CODE HERE\n",
        "index = survey_df.index.difference(index_invalid_Age_vals| index_invalid_WorkWeekHrs_vals| index_invalid_YearsCode_vals| index_invalid_YearsCodePro_vals)\n",
        "survey_df = survey_df.loc[index]"
      ],
      "execution_count": 22,
      "outputs": []
    },
    {
      "cell_type": "code",
      "metadata": {
        "deletable": false,
        "editable": false,
        "nbgrader": {
          "cell_type": "code",
          "checksum": "93bbf1f7cc93f01d800d703aeb494f04",
          "grade": true,
          "grade_id": "cell-9d04f770468db3c8",
          "locked": true,
          "points": 0.5,
          "schema_version": 3,
          "solution": false,
          "task": false
        },
        "id": "A0rOg-SI3V5c"
      },
      "source": [
        "# TEST\n",
        "assert len(survey_df) == 63900"
      ],
      "execution_count": 23,
      "outputs": []
    },
    {
      "cell_type": "markdown",
      "metadata": {
        "id": "ehQ8x8AW3V5c"
      },
      "source": [
        "---"
      ]
    },
    {
      "cell_type": "markdown",
      "metadata": {
        "id": "mWo5kwg23V5c"
      },
      "source": [
        "## Quay lại bước khám phá dữ liệu"
      ]
    },
    {
      "cell_type": "markdown",
      "metadata": {
        "id": "PsAvnSW73V5c"
      },
      "source": [
        "### Với mỗi cột có kiểu dữ liệu không phải dạng số, các giá trị được phân bố như thế nào? (1đ)"
      ]
    },
    {
      "cell_type": "markdown",
      "metadata": {
        "id": "4dQAsPkK3V5c"
      },
      "source": [
        "Với các cột có kiểu dữ liệu không phải số, bạn sẽ tính:\n",
        "- Tỉ lệ % (từ 0 đến 100) các giá trị thiếu \n",
        "- Số lượng các giá trị (các giá trị ở đây là các giá trị khác nhau và ta không xét giá trị thiếu): với cột mà ứng với câu hỏi dạng multichoice (ví dụ, cột \"DevType\"), mỗi giá trị có thể chứa nhiều choice (các choice được phân tách bởi dấu chấm phẩy), và việc đếm trực tiếp các giá trị không có nhiều ý nghĩa lắm vì số lượng tổ hợp các choice là khá nhiều; một cách khác tốt hơn mà bạn sẽ làm là đếm số lượng các choice\n",
        "- Tỉ lệ % (từ 0 đến 100) của mỗi giá trị được sort theo tỉ lệ % giảm dần (ta không xét giá trị thiếu, tỉ lệ là tỉ lệ so với số lượng các giá trị không thiếu): bạn dùng dictionary để lưu, key là giá trị, value là tỉ lệ %; với cột mà ứng với câu hỏi dạng multichoice, cách làm tương tự như ở trên\n",
        "\n",
        "Bạn sẽ lưu kết quả vào DataFrame `cate_col_info_df`, trong đó: \n",
        "- Tên của các cột là tên của các cột không phải số trong `survey_df`\n",
        "- Tên của các dòng là: \"missing_percentage\", \"num_values\", \"value_percentages\"  \n",
        "\n",
        "Để dễ nhìn, tất cả các giá trị bạn đều làm tròn với 1 chữ số thập phân bằng phương thức `.round(1)`.\n",
        "\n",
        "Gợi ý: có thể bạn sẽ muốn dùng [phương thức `explode`](https://pandas.pydata.org/pandas-docs/stable/reference/api/pandas.Series.explode.html)."
      ]
    },
    {
      "cell_type": "code",
      "metadata": {
        "id": "raiO2Ey13V5d"
      },
      "source": [
        "# Các cột ứng với câu hỏi khảo sát multichoice\n",
        "multichoice_cols = ['DevType', 'Gender', 'JobFactors', \n",
        "                    'LanguageWorkedWith', 'LanguageDesireNextYear', \n",
        "                    'MiscTechWorkedWith', 'MiscTechDesireNextYear', \n",
        "                    'NEWCollabToolsWorkedWith', 'NEWCollabToolsDesireNextYear', \n",
        "                    'PlatformWorkedWith', 'PlatformDesireNextYear', \n",
        "                    'NEWStuck']"
      ],
      "execution_count": 24,
      "outputs": []
    },
    {
      "cell_type": "code",
      "metadata": {
        "deletable": false,
        "nbgrader": {
          "cell_type": "code",
          "checksum": "84e72c4f9ef336aad46d35d52a8c5ee3",
          "grade": false,
          "grade_id": "cell-c1cfa0a88177079d",
          "locked": false,
          "schema_version": 3,
          "solution": true,
          "task": false
        },
        "colab": {
          "base_uri": "https://localhost:8080/",
          "height": 370
        },
        "id": "iKIgVxfT3V5e",
        "outputId": "585194bd-817c-4e21-bb1e-8733f3da5a00"
      },
      "source": [
        "pd.set_option('display.max_colwidth', 100) # Để dễ nhìn\n",
        "pd.set_option('display.max_columns', None) # Để dễ nhìn\n",
        "# YOUR CODE HERE\n",
        "cate_cols = survey_df.select_dtypes(exclude=np.number)\n",
        "\n",
        "missing_percentage = {}\n",
        "num_values = {}\n",
        "value_percentages = {}\n",
        "\n",
        "for col in cate_cols:\n",
        "    missing_percentage[col] = (cate_cols[col].isna().sum() * 100 / len(cate_cols[col])).round(1)     \n",
        "    num_values[col] = cate_cols[col].nunique()\n",
        "    value_percentages[col] = dict((cate_cols[col].value_counts() * 100 / (cate_cols[col]).count()).round(1))\n",
        "\n",
        "    \n",
        "    if col in multichoice_cols:\n",
        "      explode_cols = cate_cols[col].str.split(';').explode()\n",
        "      num_values[col] = explode_cols.nunique()\n",
        "      value_percentages[col] = dict((explode_cols.value_counts() * 100 / (explode_cols).count()).round(1))\n",
        "    pass\n",
        "\n",
        "cate_col_info_df = pd.DataFrame([missing_percentage, num_values, value_percentages],index=[\"missing_percentage\", \"num_values\", \"value_percentages\"])                             \n",
        "cate_col_info_df"
      ],
      "execution_count": 25,
      "outputs": [
        {
          "output_type": "execute_result",
          "data": {
            "text/html": [
              "<div>\n",
              "<style scoped>\n",
              "    .dataframe tbody tr th:only-of-type {\n",
              "        vertical-align: middle;\n",
              "    }\n",
              "\n",
              "    .dataframe tbody tr th {\n",
              "        vertical-align: top;\n",
              "    }\n",
              "\n",
              "    .dataframe thead th {\n",
              "        text-align: right;\n",
              "    }\n",
              "</style>\n",
              "<table border=\"1\" class=\"dataframe\">\n",
              "  <thead>\n",
              "    <tr style=\"text-align: right;\">\n",
              "      <th></th>\n",
              "      <th>MainBranch</th>\n",
              "      <th>Hobbyist</th>\n",
              "      <th>Country</th>\n",
              "      <th>DevType</th>\n",
              "      <th>EdLevel</th>\n",
              "      <th>Employment</th>\n",
              "      <th>Ethnicity</th>\n",
              "      <th>Gender</th>\n",
              "      <th>JobFactors</th>\n",
              "      <th>JobSat</th>\n",
              "      <th>LanguageDesireNextYear</th>\n",
              "      <th>LanguageWorkedWith</th>\n",
              "      <th>MiscTechDesireNextYear</th>\n",
              "      <th>MiscTechWorkedWith</th>\n",
              "      <th>NEWCollabToolsDesireNextYear</th>\n",
              "      <th>NEWCollabToolsWorkedWith</th>\n",
              "      <th>NEWEdImpt</th>\n",
              "      <th>NEWLearn</th>\n",
              "      <th>NEWOvertime</th>\n",
              "      <th>NEWStuck</th>\n",
              "      <th>OpSys</th>\n",
              "      <th>PlatformDesireNextYear</th>\n",
              "      <th>PlatformWorkedWith</th>\n",
              "    </tr>\n",
              "  </thead>\n",
              "  <tbody>\n",
              "    <tr>\n",
              "      <th>missing_percentage</th>\n",
              "      <td>0.5</td>\n",
              "      <td>0.1</td>\n",
              "      <td>0.6</td>\n",
              "      <td>23.6</td>\n",
              "      <td>11</td>\n",
              "      <td>0.9</td>\n",
              "      <td>28.6</td>\n",
              "      <td>21.5</td>\n",
              "      <td>23.4</td>\n",
              "      <td>30.1</td>\n",
              "      <td>16</td>\n",
              "      <td>11</td>\n",
              "      <td>34.3</td>\n",
              "      <td>37.5</td>\n",
              "      <td>26.6</td>\n",
              "      <td>18</td>\n",
              "      <td>25</td>\n",
              "      <td>12.9</td>\n",
              "      <td>33.1</td>\n",
              "      <td>14.7</td>\n",
              "      <td>12.8</td>\n",
              "      <td>21.5</td>\n",
              "      <td>16.5</td>\n",
              "    </tr>\n",
              "    <tr>\n",
              "      <th>num_values</th>\n",
              "      <td>5</td>\n",
              "      <td>2</td>\n",
              "      <td>183</td>\n",
              "      <td>23</td>\n",
              "      <td>9</td>\n",
              "      <td>7</td>\n",
              "      <td>204</td>\n",
              "      <td>3</td>\n",
              "      <td>11</td>\n",
              "      <td>5</td>\n",
              "      <td>25</td>\n",
              "      <td>25</td>\n",
              "      <td>19</td>\n",
              "      <td>19</td>\n",
              "      <td>11</td>\n",
              "      <td>11</td>\n",
              "      <td>5</td>\n",
              "      <td>4</td>\n",
              "      <td>5</td>\n",
              "      <td>9</td>\n",
              "      <td>4</td>\n",
              "      <td>16</td>\n",
              "      <td>16</td>\n",
              "    </tr>\n",
              "    <tr>\n",
              "      <th>value_percentages</th>\n",
              "      <td>{'I am a developer by profession': 73.5, 'I am a student who is learning to code': 12.5, 'I am n...</td>\n",
              "      <td>{'Yes': 78.2, 'No': 21.8}</td>\n",
              "      <td>{'United States': 19.5, 'India': 13.0, 'United Kingdom': 6.1, 'Germany': 6.1, 'Canada': 3.4, 'Fr...</td>\n",
              "      <td>{'Developer, back-end': 17.4, 'Developer, full-stack': 17.3, 'Developer, front-end': 11.7, 'Deve...</td>\n",
              "      <td>{'Bachelor’s degree (B.A., B.S., B.Eng., etc.)': 46.3, 'Master’s degree (M.A., M.S., M.Eng., MBA...</td>\n",
              "      <td>{'Employed full-time': 70.8, 'Student': 12.3, 'Independent contractor, freelancer, or self-emplo...</td>\n",
              "      <td>{'White or of European descent': 64.0, 'South Asian': 9.7, 'Hispanic or Latino/a/x': 4.9, 'Black...</td>\n",
              "      <td>{'Man': 90.8, 'Woman': 7.9, 'Non-binary, genderqueer, or gender non-conforming': 1.2}</td>\n",
              "      <td>{'Languages, frameworks, and other technologies I’d be working with': 17.5, 'Office environment ...</td>\n",
              "      <td>{'Very satisfied': 32.4, 'Slightly satisfied': 30.9, 'Slightly dissatisfied': 15.8, 'Neither sat...</td>\n",
              "      <td>{'Python': 11.2, 'JavaScript': 11.0, 'HTML/CSS': 8.7, 'SQL': 8.4, 'TypeScript': 7.2, 'C#': 5.7, ...</td>\n",
              "      <td>{'JavaScript': 13.5, 'HTML/CSS': 12.6, 'SQL': 10.9, 'Python': 8.8, 'Java': 8.0, 'Bash/Shell/Powe...</td>\n",
              "      <td>{'Node.js': 17.0, 'TensorFlow': 10.1, '.NET Core': 9.6, 'React Native': 8.4, '.NET': 6.9, 'Flutt...</td>\n",
              "      <td>{'Node.js': 23.1, '.NET': 15.7, '.NET Core': 12.0, 'Pandas': 7.0, 'TensorFlow': 5.2, 'React Nati...</td>\n",
              "      <td>{'Github': 24.7, 'Slack': 14.1, 'Gitlab': 11.3, 'Google Suite (Docs, Meet, etc)': 10.6, 'Jira': ...</td>\n",
              "      <td>{'Github': 22.2, 'Slack': 14.2, 'Jira': 12.8, 'Google Suite (Docs, Meet, etc)': 11.1, 'Gitlab': ...</td>\n",
              "      <td>{'Fairly important': 26.2, 'Very important': 24.4, 'Somewhat important': 23.5, 'Not at all impor...</td>\n",
              "      <td>{'Every few months': 37.3, 'Once a year': 36.9, 'Once every few years': 23.7, 'Once a decade': 2.2}</td>\n",
              "      <td>{'Sometimes: 1-2 days per month but less than weekly': 26.7, 'Often: 1-2 days per week or more':...</td>\n",
              "      <td>{'Visit Stack Overflow': 26.7, 'Do other work and come back later': 16.1, 'Watch help / tutorial...</td>\n",
              "      <td>{'Windows': 48.3, 'Linux-based': 26.6, 'MacOS': 25.1, 'BSD': 0.1}</td>\n",
              "      <td>{'Linux': 14.3, 'Docker': 12.2, 'AWS': 9.6, 'Windows': 9.3, 'Android': 7.9, 'Kubernetes': 7.3, '...</td>\n",
              "      <td>{'Linux': 16.6, 'Windows': 16.0, 'Docker': 10.6, 'AWS': 8.1, 'Android': 7.9, 'MacOS': 7.2, 'Rasp...</td>\n",
              "    </tr>\n",
              "  </tbody>\n",
              "</table>\n",
              "</div>"
            ],
            "text/plain": [
              "                                                                                                             MainBranch  \\\n",
              "missing_percentage                                                                                                  0.5   \n",
              "num_values                                                                                                            5   \n",
              "value_percentages   {'I am a developer by profession': 73.5, 'I am a student who is learning to code': 12.5, 'I am n...   \n",
              "\n",
              "                                     Hobbyist  \\\n",
              "missing_percentage                        0.1   \n",
              "num_values                                  2   \n",
              "value_percentages   {'Yes': 78.2, 'No': 21.8}   \n",
              "\n",
              "                                                                                                                Country  \\\n",
              "missing_percentage                                                                                                  0.6   \n",
              "num_values                                                                                                          183   \n",
              "value_percentages   {'United States': 19.5, 'India': 13.0, 'United Kingdom': 6.1, 'Germany': 6.1, 'Canada': 3.4, 'Fr...   \n",
              "\n",
              "                                                                                                                DevType  \\\n",
              "missing_percentage                                                                                                 23.6   \n",
              "num_values                                                                                                           23   \n",
              "value_percentages   {'Developer, back-end': 17.4, 'Developer, full-stack': 17.3, 'Developer, front-end': 11.7, 'Deve...   \n",
              "\n",
              "                                                                                                                EdLevel  \\\n",
              "missing_percentage                                                                                                   11   \n",
              "num_values                                                                                                            9   \n",
              "value_percentages   {'Bachelor’s degree (B.A., B.S., B.Eng., etc.)': 46.3, 'Master’s degree (M.A., M.S., M.Eng., MBA...   \n",
              "\n",
              "                                                                                                             Employment  \\\n",
              "missing_percentage                                                                                                  0.9   \n",
              "num_values                                                                                                            7   \n",
              "value_percentages   {'Employed full-time': 70.8, 'Student': 12.3, 'Independent contractor, freelancer, or self-emplo...   \n",
              "\n",
              "                                                                                                              Ethnicity  \\\n",
              "missing_percentage                                                                                                 28.6   \n",
              "num_values                                                                                                          204   \n",
              "value_percentages   {'White or of European descent': 64.0, 'South Asian': 9.7, 'Hispanic or Latino/a/x': 4.9, 'Black...   \n",
              "\n",
              "                                                                                                   Gender  \\\n",
              "missing_percentage                                                                                   21.5   \n",
              "num_values                                                                                              3   \n",
              "value_percentages   {'Man': 90.8, 'Woman': 7.9, 'Non-binary, genderqueer, or gender non-conforming': 1.2}   \n",
              "\n",
              "                                                                                                             JobFactors  \\\n",
              "missing_percentage                                                                                                 23.4   \n",
              "num_values                                                                                                           11   \n",
              "value_percentages   {'Languages, frameworks, and other technologies I’d be working with': 17.5, 'Office environment ...   \n",
              "\n",
              "                                                                                                                 JobSat  \\\n",
              "missing_percentage                                                                                                 30.1   \n",
              "num_values                                                                                                            5   \n",
              "value_percentages   {'Very satisfied': 32.4, 'Slightly satisfied': 30.9, 'Slightly dissatisfied': 15.8, 'Neither sat...   \n",
              "\n",
              "                                                                                                 LanguageDesireNextYear  \\\n",
              "missing_percentage                                                                                                   16   \n",
              "num_values                                                                                                           25   \n",
              "value_percentages   {'Python': 11.2, 'JavaScript': 11.0, 'HTML/CSS': 8.7, 'SQL': 8.4, 'TypeScript': 7.2, 'C#': 5.7, ...   \n",
              "\n",
              "                                                                                                     LanguageWorkedWith  \\\n",
              "missing_percentage                                                                                                   11   \n",
              "num_values                                                                                                           25   \n",
              "value_percentages   {'JavaScript': 13.5, 'HTML/CSS': 12.6, 'SQL': 10.9, 'Python': 8.8, 'Java': 8.0, 'Bash/Shell/Powe...   \n",
              "\n",
              "                                                                                                 MiscTechDesireNextYear  \\\n",
              "missing_percentage                                                                                                 34.3   \n",
              "num_values                                                                                                           19   \n",
              "value_percentages   {'Node.js': 17.0, 'TensorFlow': 10.1, '.NET Core': 9.6, 'React Native': 8.4, '.NET': 6.9, 'Flutt...   \n",
              "\n",
              "                                                                                                     MiscTechWorkedWith  \\\n",
              "missing_percentage                                                                                                 37.5   \n",
              "num_values                                                                                                           19   \n",
              "value_percentages   {'Node.js': 23.1, '.NET': 15.7, '.NET Core': 12.0, 'Pandas': 7.0, 'TensorFlow': 5.2, 'React Nati...   \n",
              "\n",
              "                                                                                           NEWCollabToolsDesireNextYear  \\\n",
              "missing_percentage                                                                                                 26.6   \n",
              "num_values                                                                                                           11   \n",
              "value_percentages   {'Github': 24.7, 'Slack': 14.1, 'Gitlab': 11.3, 'Google Suite (Docs, Meet, etc)': 10.6, 'Jira': ...   \n",
              "\n",
              "                                                                                               NEWCollabToolsWorkedWith  \\\n",
              "missing_percentage                                                                                                   18   \n",
              "num_values                                                                                                           11   \n",
              "value_percentages   {'Github': 22.2, 'Slack': 14.2, 'Jira': 12.8, 'Google Suite (Docs, Meet, etc)': 11.1, 'Gitlab': ...   \n",
              "\n",
              "                                                                                                              NEWEdImpt  \\\n",
              "missing_percentage                                                                                                   25   \n",
              "num_values                                                                                                            5   \n",
              "value_percentages   {'Fairly important': 26.2, 'Very important': 24.4, 'Somewhat important': 23.5, 'Not at all impor...   \n",
              "\n",
              "                                                                                                               NEWLearn  \\\n",
              "missing_percentage                                                                                                 12.9   \n",
              "num_values                                                                                                            4   \n",
              "value_percentages   {'Every few months': 37.3, 'Once a year': 36.9, 'Once every few years': 23.7, 'Once a decade': 2.2}   \n",
              "\n",
              "                                                                                                            NEWOvertime  \\\n",
              "missing_percentage                                                                                                 33.1   \n",
              "num_values                                                                                                            5   \n",
              "value_percentages   {'Sometimes: 1-2 days per month but less than weekly': 26.7, 'Often: 1-2 days per week or more':...   \n",
              "\n",
              "                                                                                                               NEWStuck  \\\n",
              "missing_percentage                                                                                                 14.7   \n",
              "num_values                                                                                                            9   \n",
              "value_percentages   {'Visit Stack Overflow': 26.7, 'Do other work and come back later': 16.1, 'Watch help / tutorial...   \n",
              "\n",
              "                                                                                OpSys  \\\n",
              "missing_percentage                                                               12.8   \n",
              "num_values                                                                          4   \n",
              "value_percentages   {'Windows': 48.3, 'Linux-based': 26.6, 'MacOS': 25.1, 'BSD': 0.1}   \n",
              "\n",
              "                                                                                                 PlatformDesireNextYear  \\\n",
              "missing_percentage                                                                                                 21.5   \n",
              "num_values                                                                                                           16   \n",
              "value_percentages   {'Linux': 14.3, 'Docker': 12.2, 'AWS': 9.6, 'Windows': 9.3, 'Android': 7.9, 'Kubernetes': 7.3, '...   \n",
              "\n",
              "                                                                                                     PlatformWorkedWith  \n",
              "missing_percentage                                                                                                 16.5  \n",
              "num_values                                                                                                           16  \n",
              "value_percentages   {'Linux': 16.6, 'Windows': 16.0, 'Docker': 10.6, 'AWS': 8.1, 'Android': 7.9, 'MacOS': 7.2, 'Rasp...  "
            ]
          },
          "metadata": {},
          "execution_count": 25
        }
      ]
    },
    {
      "cell_type": "code",
      "metadata": {
        "deletable": false,
        "editable": false,
        "nbgrader": {
          "cell_type": "code",
          "checksum": "fe2ab946f8702d5d5233c4746646bae7",
          "grade": true,
          "grade_id": "cell-e748038de60d2ab7",
          "locked": true,
          "points": 1,
          "schema_version": 3,
          "solution": false,
          "task": false
        },
        "id": "prhsfc073V5e"
      },
      "source": [
        "# TEST\n",
        "c = cate_col_info_df['MainBranch']\n",
        "assert c.loc['missing_percentage'] == 0.5\n",
        "assert c.loc['num_values'] == 5\n",
        "assert c.loc['value_percentages']['I am a developer by profession'] == 73.5\n",
        "\n",
        "c = cate_col_info_df['Hobbyist']\n",
        "assert c.loc['missing_percentage'] == 0.1\n",
        "assert c.loc['num_values'] == 2\n",
        "assert c.loc['value_percentages']['Yes'] == 78.2\n",
        "\n",
        "c = cate_col_info_df['DevType']\n",
        "assert c.loc['missing_percentage'] == 23.6\n",
        "assert c.loc['num_values'] == 23\n",
        "assert c.loc['value_percentages']['Academic researcher'] == 2.2\n",
        "\n",
        "c = cate_col_info_df['PlatformWorkedWith']\n",
        "assert c.loc['missing_percentage'] == 16.5\n",
        "assert c.loc['num_values'] == 16\n",
        "assert c.loc['value_percentages']['Docker'] == 10.6"
      ],
      "execution_count": 26,
      "outputs": []
    },
    {
      "cell_type": "markdown",
      "metadata": {
        "id": "awX0DCGd3V5e"
      },
      "source": [
        "---"
      ]
    },
    {
      "cell_type": "markdown",
      "metadata": {
        "id": "UzftrwQX3V5f"
      },
      "source": [
        "## Đặt câu hỏi "
      ]
    },
    {
      "cell_type": "markdown",
      "metadata": {
        "id": "ERxXpZFV3V5f"
      },
      "source": [
        "Sau khi khám phá dữ liệu, ta đã hiểu hơn về dữ liệu. Bây giờ, ta hãy xem thử có câu hỏi nào có thể được trả lời bằng dữ liệu này.\n",
        "\n",
        "**Một câu hỏi có thể có là:** Platform nào (Windows, Linux, Docker, AWS, ...) được yêu thích nhất, platform nào được yêu thích nhì, platform nào được yêu thích ba, ...?\n",
        "\n",
        "Một platform được xem là được yêu thích nếu một người đã dùng platform này (cột \"PlatformWorkedWith\") và muốn tiếp tục dùng platform trong năm kế (cột \"PlatformDesireNextYear\").\n",
        "\n",
        "**Trả lời được câu hỏi này sẽ** phần nào giúp ta định hướng là nên tập trung học platform nào để có thể chuẩn bị cho tương lai (mình nói \"phần nào\" vì ở đây dữ liệu chỉ giới hạn trong phạm vi những người làm khảo sát của StackOverflow)."
      ]
    },
    {
      "cell_type": "markdown",
      "metadata": {
        "id": "uQ4CrmEw3V5f"
      },
      "source": [
        "---"
      ]
    },
    {
      "cell_type": "markdown",
      "metadata": {
        "id": "Q1vMRykU3V5f"
      },
      "source": [
        "## Tiền xử lý"
      ]
    },
    {
      "cell_type": "markdown",
      "metadata": {
        "id": "BywV4wji3V5g"
      },
      "source": [
        "Nếu bạn thấy cần thực hiện thêm thao tác tiền xử lý để chuẩn bị dữ liệu cho bước phân tích thì bạn làm ở đây. Bước này là không bắt buộc. "
      ]
    },
    {
      "cell_type": "code",
      "metadata": {
        "id": "FNoe3uNo3V5g"
      },
      "source": [
        "# YOUR CODE HERE (OPTION) "
      ],
      "execution_count": 27,
      "outputs": []
    },
    {
      "cell_type": "markdown",
      "metadata": {
        "id": "mvTOhEKC3V5g"
      },
      "source": [
        "---"
      ]
    },
    {
      "cell_type": "markdown",
      "metadata": {
        "id": "3T9V9v3Z3V5h"
      },
      "source": [
        "## Phân tích dữ liệu (2.25đ)"
      ]
    },
    {
      "cell_type": "markdown",
      "metadata": {
        "id": "-jlj3Opu3V5h"
      },
      "source": [
        "Bây giờ, bạn sẽ thực hiện phân tích dữ liệu để trả lời cho câu hỏi ở trên. Cụ thể các bước như sau:\n",
        "- Bước 1: tính Series `most_loved_platforms`, trong đó: \n",
        "    - Index là tên flatform (ở bước khám phá dữ liệu, bạn đã thấy có tất cả 16 platform)\n",
        "    - Data là tỉ lệ % (từ 0 đến 100, được làm tròn với một chữ số thập phân bằng phương thức `round(1)`) được yêu thích (được sort giảm dần) \n",
        "- Bước 2: từ Series `most_loved_platforms`, bạn vẽ bar chart:\n",
        "    - Bạn cho các bar nằm ngang (cho dễ nhìn)\n",
        "    - Bạn đặt tên trục hoành là \"Tỉ lệ %\""
      ]
    },
    {
      "cell_type": "markdown",
      "metadata": {
        "id": "WPtBt26O3V5h"
      },
      "source": [
        "Code bước 1."
      ]
    },
    {
      "cell_type": "code",
      "metadata": {
        "deletable": false,
        "nbgrader": {
          "cell_type": "code",
          "checksum": "0a9055745bab2ee00733aac0a056b17f",
          "grade": false,
          "grade_id": "cell-6d34c88e2fd46b33",
          "locked": false,
          "schema_version": 3,
          "solution": true,
          "task": false
        },
        "id": "CQywYGmD3V5i"
      },
      "source": [
        "platforms = cate_cols[['PlatformWorkedWith', 'PlatformDesireNextYear']].apply(lambda x: x.str.split(';')) #Split string by delimiter\n",
        "platforms = platforms.explode('PlatformWorkedWith').explode('PlatformDesireNextYear') #explode list\n",
        "platforms = platforms[platforms['PlatformWorkedWith'] == platforms['PlatformDesireNextYear']] \n",
        "most_loved_platforms = platforms['PlatformWorkedWith']\n",
        "\n",
        "most_loved_platforms = most_loved_platforms.value_counts(normalize=True).mul(100).round(1) "
      ],
      "execution_count": 28,
      "outputs": []
    },
    {
      "cell_type": "code",
      "metadata": {
        "deletable": false,
        "editable": false,
        "nbgrader": {
          "cell_type": "code",
          "checksum": "0e1af6ae8a0d65cf90e9d8d9276bf6bb",
          "grade": true,
          "grade_id": "cell-1d22896d0f3f2394",
          "locked": true,
          "points": 2,
          "schema_version": 3,
          "solution": false,
          "task": false
        },
        "id": "ewBrCFSH3V5i"
      },
      "source": [
        "# TEST\n",
        "assert len(most_loved_platforms) == 16\n",
        "assert most_loved_platforms.loc['Linux'] == 20.2\n",
        "assert most_loved_platforms.loc['Windows'] == 14.6\n",
        "assert most_loved_platforms.loc['Docker'] == 12.3"
      ],
      "execution_count": 29,
      "outputs": []
    },
    {
      "cell_type": "markdown",
      "metadata": {
        "id": "s5ujJcd_3V5i"
      },
      "source": [
        "Code bước 2."
      ]
    },
    {
      "cell_type": "code",
      "metadata": {
        "deletable": false,
        "nbgrader": {
          "cell_type": "code",
          "checksum": "e9113040c23a1b8cbfde861c4efe685f",
          "grade": true,
          "grade_id": "cell-5395c611d6065339",
          "locked": false,
          "points": 0.25,
          "schema_version": 3,
          "solution": true,
          "task": false
        },
        "colab": {
          "base_uri": "https://localhost:8080/",
          "height": 528
        },
        "id": "NT_WOXfM3V5j",
        "outputId": "fb3a60ae-1aec-46dc-e75f-4c5383f09795"
      },
      "source": [
        "# YOUR CODE HERE\n",
        "plt.figure(figsize=(15, 8))\n",
        "plt.barh(most_loved_platforms.index, most_loved_platforms) \n",
        "plt.title('Favorite Platforms Chart')\n",
        "plt.xlabel('Percent %');\n",
        "plt.ylabel('Platforms')"
      ],
      "execution_count": 30,
      "outputs": [
        {
          "output_type": "execute_result",
          "data": {
            "text/plain": [
              "Text(0, 0.5, 'Platforms')"
            ]
          },
          "metadata": {},
          "execution_count": 30
        },
        {
          "output_type": "display_data",
          "data": {
            "image/png": "[encoded data removed]",
            "text/plain": [
              "<Figure size 1080x576 with 1 Axes>"
            ]
          },
          "metadata": {
            "needs_background": "light"
          }
        }
      ]
    },
    {
      "cell_type": "markdown",
      "metadata": {
        "id": "X53J5G4w3V5j"
      },
      "source": [
        "Bạn đã hiểu tại sao mình khuyên bạn là nên tập làm quen dần với các câu lệnh của Linux chưa 😉 "
      ]
    },
    {
      "cell_type": "markdown",
      "metadata": {
        "id": "exCc5Chi3V5j"
      },
      "source": [
        "---"
      ]
    },
    {
      "cell_type": "markdown",
      "metadata": {
        "id": "t4T5q8es3V5k"
      },
      "source": [
        "## Đặt câu hỏi của bạn (1.5đ)"
      ]
    },
    {
      "cell_type": "markdown",
      "metadata": {
        "id": "aI_qd1BR3V5k"
      },
      "source": [
        "Bây giờ, đến lượt bạn phải tự suy nghĩ và đưa ra câu hỏi mà có thể trả lời bằng dữ liệu. Ngoài việc đưa ra câu hỏi, bạn cũng phải giải thích để người đọc thấy nếu trả lời được câu hỏi thì sẽ có lợi ích gì. Bạn nên sáng tạo một xíu, không nên đưa ra câu hỏi cùng dạng với câu hỏi của mình ở trên.  "
      ]
    },
    {
      "cell_type": "markdown",
      "metadata": {
        "deletable": false,
        "nbgrader": {
          "cell_type": "markdown",
          "checksum": "8e88fb70d5a2aac41af1566276a95321",
          "grade": true,
          "grade_id": "cell-2e7a92ae99ca7449",
          "locked": false,
          "points": 1.5,
          "schema_version": 3,
          "solution": true,
          "task": false
        },
        "id": "jzgJ5_3D3V5k"
      },
      "source": [
        "YOUR ANSWER HERE <br>\n",
        "**Yếu tố nào tác động đến lương của lập trình viên ?**<br>\n",
        "Trả lời được câu hỏi giúp lập trình viên hiểu hơn và điều chỉnh để đạt được điều họ mong muốn.\n"
      ]
    },
    {
      "cell_type": "markdown",
      "metadata": {
        "id": "-ZirV8_m3V5k"
      },
      "source": [
        "---"
      ]
    },
    {
      "cell_type": "markdown",
      "metadata": {
        "id": "RaZ6eIzY3V5l"
      },
      "source": [
        "## Tiền xử lý để chuẩn bị dữ liệu cho bước phân tích để trả lời cho câu hỏi của bạn"
      ]
    },
    {
      "cell_type": "markdown",
      "metadata": {
        "id": "n22st6cE3V5l"
      },
      "source": [
        "Phần này là không bắt buộc. "
      ]
    },
    {
      "cell_type": "markdown",
      "metadata": {
        "id": "US1ggJTfrHfQ"
      },
      "source": [
        "Bỏ các bản ghi có giá trị ConvertedComp là NanN, loại bỏ outlier với cột numeric và điền unknow với cột categorical"
      ]
    },
    {
      "cell_type": "code",
      "metadata": {
        "id": "i2zijHHlXSQS"
      },
      "source": [
        "salary_df = survey_df\n",
        "salary_df.dropna(subset=['ConvertedComp'],inplace=True)\n",
        "\n",
        "num_cols = salary_df.select_dtypes(include = np.number).columns # clean outlier numeric columns\n",
        "min = salary_df[num_cols].quantile(0.05)\n",
        "max = salary_df[num_cols].quantile(0.95)\n",
        "for col in num_cols:\n",
        "  salary_df = salary_df[(salary_df[col] < max[col]) &(salary_df[col] > min[col])]\n",
        "\n",
        "cate_cols = salary_df.select_dtypes(exclude = np.number).columns # clean outlier numeric columns\n",
        "# salary_df[cate_cols] = salary_df[cate_cols].fillna('unknow',inplace=True)\n",
        "for col in cate_cols:\n",
        "  salary_df[col].fillna('unknow',inplace=True)"
      ],
      "execution_count": 31,
      "outputs": []
    },
    {
      "cell_type": "markdown",
      "metadata": {
        "id": "DINuChxB3V5m"
      },
      "source": [
        "## Phân tích dữ liệu để ra câu trả lời cho câu hỏi của bạn (2đ)"
      ]
    },
    {
      "cell_type": "code",
      "metadata": {
        "id": "TvNs2nR29h2n"
      },
      "source": [
        "# YOUR CODE HERE\n"
      ],
      "execution_count": null,
      "outputs": []
    },
    {
      "cell_type": "markdown",
      "metadata": {
        "id": "7WYJQ3pa3V5l"
      },
      "source": [
        "---"
      ]
    },
    {
      "cell_type": "markdown",
      "metadata": {
        "id": "B6TiM4ea8JFh"
      },
      "source": [
        "**Biểu đồ lương theo tuổi nghề**"
      ]
    },
    {
      "cell_type": "code",
      "metadata": {
        "colab": {
          "base_uri": "https://localhost:8080/",
          "height": 292
        },
        "id": "t_9yEm7S7Li5",
        "outputId": "4ad5d03f-5d0c-4ce8-a0d3-784f17dcd9fa"
      },
      "source": [
        "df_plot = salary_df[['YearsCode','ConvertedComp']].groupby(by='YearsCode').median().plot.bar()"
      ],
      "execution_count": 32,
      "outputs": [
        {
          "output_type": "display_data",
          "data": {
            "image/png": "[encoded data removed]",
            "text/plain": [
              "<Figure size 432x288 with 1 Axes>"
            ]
          },
          "metadata": {
            "needs_background": "light"
          }
        }
      ]
    },
    {
      "cell_type": "markdown",
      "metadata": {
        "id": "zWp7uS_r-ZXU"
      },
      "source": [
        "Tuổi nghề cao lương tăng nhưng đến 25 năm thì chững lại<br>"
      ]
    },
    {
      "cell_type": "markdown",
      "metadata": {
        "id": "q1XsYKL68Uta"
      },
      "source": [
        "**Biểu đồ lương theo tuổi**"
      ]
    },
    {
      "cell_type": "code",
      "metadata": {
        "colab": {
          "base_uri": "https://localhost:8080/",
          "height": 295
        },
        "id": "VXI3xCxdeNGc",
        "outputId": "c4120246-1cd6-4751-daa5-8e344f76cd09"
      },
      "source": [
        "df_plot = salary_df[['Age','ConvertedComp']].groupby(by='Age').median().reset_index()\n",
        "df_plot.plot.scatter(x='Age', y='ConvertedComp')"
      ],
      "execution_count": 33,
      "outputs": [
        {
          "output_type": "execute_result",
          "data": {
            "text/plain": [
              "<matplotlib.axes._subplots.AxesSubplot at 0x7f197e328e90>"
            ]
          },
          "metadata": {},
          "execution_count": 33
        },
        {
          "output_type": "display_data",
          "data": {
            "image/png": "[encoded data removed]",
            "text/plain": [
              "<Figure size 432x288 with 1 Axes>"
            ]
          },
          "metadata": {
            "needs_background": "light"
          }
        }
      ]
    },
    {
      "cell_type": "markdown",
      "metadata": {
        "id": "wX7rTrdS-1TK"
      },
      "source": [
        "Tuổi cao lương tăng nhưng đến 40 tuổi thì chững lại<br>"
      ]
    },
    {
      "cell_type": "markdown",
      "metadata": {
        "id": "zZpo3D8R8W9Y"
      },
      "source": [
        "Biểu đồ lương theo giờ làm việc"
      ]
    },
    {
      "cell_type": "code",
      "metadata": {
        "colab": {
          "base_uri": "https://localhost:8080/",
          "height": 295
        },
        "id": "XuKapeJAgsSk",
        "outputId": "d5d646a7-7b9c-46d9-b708-016f50cb5901"
      },
      "source": [
        "df_plot = salary_df[['WorkWeekHrs','ConvertedComp']].groupby(by='WorkWeekHrs').median().reset_index()\n",
        "df_plot.plot.scatter(x='WorkWeekHrs', y='ConvertedComp')"
      ],
      "execution_count": 34,
      "outputs": [
        {
          "output_type": "execute_result",
          "data": {
            "text/plain": [
              "<matplotlib.axes._subplots.AxesSubplot at 0x7f197e38a710>"
            ]
          },
          "metadata": {},
          "execution_count": 34
        },
        {
          "output_type": "display_data",
          "data": {
            "image/png": "[encoded data removed]",
            "text/plain": [
              "<Figure size 432x288 with 1 Axes>"
            ]
          },
          "metadata": {
            "needs_background": "light"
          }
        }
      ]
    },
    {
      "cell_type": "markdown",
      "metadata": {
        "id": "orRFErsC_Xo9"
      },
      "source": [
        "Giờ làm việc nhiều thì lương tăng nhưng ít<br>"
      ]
    },
    {
      "cell_type": "markdown",
      "metadata": {
        "id": "VVoXNFEA8bN6"
      },
      "source": [
        "Biểu đồ lương theo quốc gia"
      ]
    },
    {
      "cell_type": "code",
      "metadata": {
        "colab": {
          "base_uri": "https://localhost:8080/",
          "height": 1000
        },
        "id": "Uk36yjItqxJT",
        "outputId": "fcd5fe4c-c68b-4659-fb1d-cad0cd2e5bb6"
      },
      "source": [
        "salary_df[['Country','ConvertedComp']].groupby(by='Country').median().sort_values(by=\"ConvertedComp\").plot(kind='barh',figsize = (15,30))"
      ],
      "execution_count": 37,
      "outputs": [
        {
          "output_type": "execute_result",
          "data": {
            "text/plain": [
              "<matplotlib.axes._subplots.AxesSubplot at 0x7f197e532610>"
            ]
          },
          "metadata": {},
          "execution_count": 37
        },
        {
          "output_type": "display_data",
          "data": {
            "image/png": "[encoded data removed]",
            "text/plain": [
              "<Figure size 1080x2160 with 1 Axes>"
            ]
          },
          "metadata": {
            "needs_background": "light"
          }
        }
      ]
    },
    {
      "cell_type": "markdown",
      "metadata": {
        "id": "QeXr8zF5_pN6"
      },
      "source": [
        "Các quốc gia thu nhập cao thì lương lập trình viên cũng cao hơn<br>"
      ]
    },
    {
      "cell_type": "markdown",
      "metadata": {
        "id": "JngmA_1A8fIH"
      },
      "source": [
        "Biểu đồ lương theo loại hình làm việc"
      ]
    },
    {
      "cell_type": "code",
      "metadata": {
        "colab": {
          "base_uri": "https://localhost:8080/",
          "height": 281
        },
        "id": "_6ONOUl2WpQc",
        "outputId": "16935b04-b092-4395-96eb-671271cbb0b8"
      },
      "source": [
        "salary_df[['Employment','ConvertedComp']].groupby(by='Employment').median().sort_values(by=\"ConvertedComp\").plot(kind='barh')"
      ],
      "execution_count": 38,
      "outputs": [
        {
          "output_type": "execute_result",
          "data": {
            "text/plain": [
              "<matplotlib.axes._subplots.AxesSubplot at 0x7f197e72d310>"
            ]
          },
          "metadata": {},
          "execution_count": 38
        },
        {
          "output_type": "display_data",
          "data": {
            "image/png": "[encoded data removed]",
            "text/plain": [
              "<Figure size 432x288 with 1 Axes>"
            ]
          },
          "metadata": {
            "needs_background": "light"
          }
        }
      ]
    },
    {
      "cell_type": "markdown",
      "metadata": {
        "id": "deNLxxN6_7zj"
      },
      "source": [
        "Người có thể Làm việc độc lập, freelancer lại đạt được mức lương hấp dẫn<br>"
      ]
    },
    {
      "cell_type": "markdown",
      "metadata": {
        "id": "wR2lvrmE8jM-"
      },
      "source": [
        "Biểu đồ lương theo bằng cấp"
      ]
    },
    {
      "cell_type": "code",
      "metadata": {
        "colab": {
          "base_uri": "https://localhost:8080/",
          "height": 281
        },
        "id": "SeGaukngvtKd",
        "outputId": "f2226769-f8eb-44e3-8bc9-ba514fd37155"
      },
      "source": [
        "salary_df[['EdLevel','ConvertedComp']].groupby(by='EdLevel').median().sort_values(by=\"ConvertedComp\").plot(kind='barh')"
      ],
      "execution_count": 39,
      "outputs": [
        {
          "output_type": "execute_result",
          "data": {
            "text/plain": [
              "<matplotlib.axes._subplots.AxesSubplot at 0x7f197e76ed50>"
            ]
          },
          "metadata": {},
          "execution_count": 39
        },
        {
          "output_type": "display_data",
          "data": {
            "image/png": "[encoded data removed]",
            "text/plain": [
              "<Figure size 432x288 with 1 Axes>"
            ]
          },
          "metadata": {
            "needs_background": "light"
          }
        }
      ]
    },
    {
      "cell_type": "markdown",
      "metadata": {
        "id": "0J-du95LAhYy"
      },
      "source": [
        "Bằng cấp ảnh hưởng tốt đền mức lương<br>"
      ]
    },
    {
      "cell_type": "markdown",
      "metadata": {
        "id": "zMJA0C9V8pxU"
      },
      "source": [
        "Biểu đồ lương theo tần suất học cộng nghệ mới"
      ]
    },
    {
      "cell_type": "code",
      "metadata": {
        "colab": {
          "base_uri": "https://localhost:8080/",
          "height": 281
        },
        "id": "MHL219RqwAe9",
        "outputId": "6a9cd299-4f66-4ebd-8d2d-901128d0d17f"
      },
      "source": [
        "salary_df[['NEWLearn','ConvertedComp']].groupby(by='NEWLearn').median().sort_values(by=\"ConvertedComp\").plot(kind='barh')"
      ],
      "execution_count": 40,
      "outputs": [
        {
          "output_type": "execute_result",
          "data": {
            "text/plain": [
              "<matplotlib.axes._subplots.AxesSubplot at 0x7f197e7b8e10>"
            ]
          },
          "metadata": {},
          "execution_count": 40
        },
        {
          "output_type": "display_data",
          "data": {
            "image/png": "[encoded data removed]",
            "text/plain": [
              "<Figure size 432x288 with 1 Axes>"
            ]
          },
          "metadata": {
            "needs_background": "light"
          }
        }
      ]
    },
    {
      "cell_type": "markdown",
      "metadata": {
        "id": "S_aDn_DWAzrM"
      },
      "source": [
        "Người theo đuổi đào sâu công nghệ trong vài năm có thu nhập tốt hơn<br>"
      ]
    },
    {
      "cell_type": "markdown",
      "metadata": {
        "id": "CPOHsPZE8u9C"
      },
      "source": [
        "Biểu đồ lương theo tần suất làm tăng ca"
      ]
    },
    {
      "cell_type": "code",
      "metadata": {
        "colab": {
          "base_uri": "https://localhost:8080/",
          "height": 281
        },
        "id": "41CwWU8ewEhJ",
        "outputId": "7a09e2d7-b3d0-4dd5-8df2-8e80a9515253"
      },
      "source": [
        "salary_df[['NEWOvertime','ConvertedComp']].groupby(by='NEWOvertime').median().sort_values(by=\"ConvertedComp\").plot(kind='barh')"
      ],
      "execution_count": 41,
      "outputs": [
        {
          "output_type": "execute_result",
          "data": {
            "text/plain": [
              "<matplotlib.axes._subplots.AxesSubplot at 0x7f197e859250>"
            ]
          },
          "metadata": {},
          "execution_count": 41
        },
        {
          "output_type": "display_data",
          "data": {
            "image/png": "[encoded data removed]",
            "text/plain": [
              "<Figure size 432x288 with 1 Axes>"
            ]
          },
          "metadata": {
            "needs_background": "light"
          }
        }
      ]
    },
    {
      "cell_type": "markdown",
      "metadata": {
        "id": "UVif0TZdBPjM"
      },
      "source": [
        "Những người làm tăng ca cũng không hẳn đem lại nhiều thu nhập hơn"
      ]
    },
    {
      "cell_type": "markdown",
      "metadata": {
        "id": "DEeZ9-zU8yx9"
      },
      "source": [
        "Biểu đồ lương theo vị trí công việc"
      ]
    },
    {
      "cell_type": "code",
      "metadata": {
        "colab": {
          "base_uri": "https://localhost:8080/",
          "height": 608
        },
        "id": "tipuTDgYwHr9",
        "outputId": "7edf5036-b51b-4f17-f50f-3d0e7319507c"
      },
      "source": [
        "temp = salary_df[['DevType','ConvertedComp']]\n",
        "temp['DevType'] = salary_df['DevType'].str.split(';')\n",
        "temp = temp.explode('DevType');\n",
        "temp.groupby(by='DevType').median().sort_values(by=\"ConvertedComp\").plot(kind='barh',figsize = (14,10))"
      ],
      "execution_count": 42,
      "outputs": [
        {
          "output_type": "execute_result",
          "data": {
            "text/plain": [
              "<matplotlib.axes._subplots.AxesSubplot at 0x7f197e901bd0>"
            ]
          },
          "metadata": {},
          "execution_count": 42
        },
        {
          "output_type": "display_data",
          "data": {
            "image/png": "[encoded data removed]",
            "text/plain": [
              "<Figure size 1008x720 with 1 Axes>"
            ]
          },
          "metadata": {
            "needs_background": "light"
          }
        }
      ]
    },
    {
      "cell_type": "markdown",
      "metadata": {
        "id": "Ji76CfLkBgOq"
      },
      "source": [
        "Vị trí quản lý có mức thu nhập tốt nhất, rồi đến lĩnh vực khoa học dữ liệu và học máy, đến dev và lĩnh vực nghiên cứu học thuật lại thấp nhất<br>"
      ]
    },
    {
      "cell_type": "markdown",
      "metadata": {
        "id": "ayEi8qb782hJ"
      },
      "source": [
        "Biểu đồ lương theo ngôn ngữ lập trình"
      ]
    },
    {
      "cell_type": "code",
      "metadata": {
        "colab": {
          "base_uri": "https://localhost:8080/",
          "height": 608
        },
        "id": "t937FvtUwIK0",
        "outputId": "e3b9ee1f-7600-4b9f-ba89-d7f9b25e6b27"
      },
      "source": [
        "temp = salary_df[['LanguageWorkedWith','ConvertedComp']]\n",
        "temp['LanguageWorkedWith'] = salary_df['LanguageWorkedWith'].str.split(';')\n",
        "temp = temp.explode('LanguageWorkedWith');\n",
        "temp.groupby(by='LanguageWorkedWith').median().sort_values(by=\"ConvertedComp\").plot(kind='barh',figsize = (14,10))"
      ],
      "execution_count": 43,
      "outputs": [
        {
          "output_type": "execute_result",
          "data": {
            "text/plain": [
              "<matplotlib.axes._subplots.AxesSubplot at 0x7f197e9094d0>"
            ]
          },
          "metadata": {},
          "execution_count": 43
        },
        {
          "output_type": "display_data",
          "data": {
            "image/png": "[encoded data removed]",
            "text/plain": [
              "<Figure size 1008x720 with 1 Axes>"
            ]
          },
          "metadata": {
            "needs_background": "light"
          }
        }
      ]
    },
    {
      "cell_type": "markdown",
      "metadata": {
        "id": "-LdURg-mChBS"
      },
      "source": [
        "Các ngôn ngữ ít phổ biến thường có mức lương cao hơn"
      ]
    },
    {
      "cell_type": "markdown",
      "metadata": {
        "id": "4n-hqO3W89Ww"
      },
      "source": [
        "Biểu đồ lương theo framework"
      ]
    },
    {
      "cell_type": "code",
      "metadata": {
        "colab": {
          "base_uri": "https://localhost:8080/",
          "height": 498
        },
        "id": "l4sQrZTAwbQQ",
        "outputId": "adea4b5f-1ca8-4cd5-9570-9a7f11ef9196"
      },
      "source": [
        "temp = salary_df[['MiscTechWorkedWith','ConvertedComp']]\n",
        "temp['MiscTechWorkedWith'] = salary_df['MiscTechWorkedWith'].str.split(';')\n",
        "temp = temp.explode('MiscTechWorkedWith');\n",
        "temp.groupby(by='MiscTechWorkedWith').median().sort_values(by=\"ConvertedComp\").plot(kind='barh',figsize = (14,8))"
      ],
      "execution_count": 44,
      "outputs": [
        {
          "output_type": "execute_result",
          "data": {
            "text/plain": [
              "<matplotlib.axes._subplots.AxesSubplot at 0x7f1980461950>"
            ]
          },
          "metadata": {},
          "execution_count": 44
        },
        {
          "output_type": "display_data",
          "data": {
            "image/png": "[encoded data removed]",
            "text/plain": [
              "<Figure size 1008x576 with 1 Axes>"
            ]
          },
          "metadata": {
            "needs_background": "light"
          }
        }
      ]
    },
    {
      "cell_type": "markdown",
      "metadata": {
        "id": "GhQE20U39E38"
      },
      "source": [
        "Biểu đồ lương theo tool hỗ trợ làm việc nhóm"
      ]
    },
    {
      "cell_type": "code",
      "metadata": {
        "colab": {
          "base_uri": "https://localhost:8080/",
          "height": 390
        },
        "id": "Ajreiz2RwbZn",
        "outputId": "05f0c559-8e6a-4d13-cc92-2f7244660062"
      },
      "source": [
        "temp = salary_df[['NEWCollabToolsWorkedWith','ConvertedComp']]\n",
        "temp['NEWCollabToolsWorkedWith'] = salary_df['NEWCollabToolsWorkedWith'].str.split(';')\n",
        "temp = temp.explode('NEWCollabToolsWorkedWith');\n",
        "temp.groupby(by='NEWCollabToolsWorkedWith').median().sort_values(by=\"ConvertedComp\").plot(kind='barh',figsize = (14,6))"
      ],
      "execution_count": 45,
      "outputs": [
        {
          "output_type": "execute_result",
          "data": {
            "text/plain": [
              "<matplotlib.axes._subplots.AxesSubplot at 0x7f197f29f710>"
            ]
          },
          "metadata": {},
          "execution_count": 45
        },
        {
          "output_type": "display_data",
          "data": {
            "image/png": "[encoded data removed]",
            "text/plain": [
              "<Figure size 1008x432 with 1 Axes>"
            ]
          },
          "metadata": {
            "needs_background": "light"
          }
        }
      ]
    },
    {
      "cell_type": "markdown",
      "metadata": {
        "id": "cOiWoWrM9LnU"
      },
      "source": [
        "Biểu đồ lương theo chủng tộc"
      ]
    },
    {
      "cell_type": "code",
      "metadata": {
        "colab": {
          "base_uri": "https://localhost:8080/",
          "height": 336
        },
        "id": "73DdH6aawb8T",
        "outputId": "08a3e52d-bfff-4585-fabf-d7fbf080fe13"
      },
      "source": [
        "temp = salary_df[['Ethnicity','ConvertedComp']]\n",
        "temp['Ethnicity'] = salary_df['Ethnicity'].str.split(';')\n",
        "temp = temp.explode('Ethnicity');\n",
        "temp.groupby(by='Ethnicity').median().sort_values(by=\"ConvertedComp\").plot(kind='barh',figsize = (14,5))"
      ],
      "execution_count": 46,
      "outputs": [
        {
          "output_type": "execute_result",
          "data": {
            "text/plain": [
              "<matplotlib.axes._subplots.AxesSubplot at 0x7f197f1a6750>"
            ]
          },
          "metadata": {},
          "execution_count": 46
        },
        {
          "output_type": "display_data",
          "data": {
            "image/png": "[encoded data removed]",
            "text/plain": [
              "<Figure size 1008x360 with 1 Axes>"
            ]
          },
          "metadata": {
            "needs_background": "light"
          }
        }
      ]
    },
    {
      "cell_type": "markdown",
      "metadata": {
        "id": "fSBIygfKC4Bo"
      },
      "source": [
        "Các khu vực Nam Á và Đông Nam Á đang có nguồn lao động có giá rất cạnh tranh"
      ]
    },
    {
      "cell_type": "markdown",
      "metadata": {
        "id": "193tBiTk9ODz"
      },
      "source": [
        "Biểu đồ lương theo môi trường hệ điều hành đang làm việc"
      ]
    },
    {
      "cell_type": "code",
      "metadata": {
        "colab": {
          "base_uri": "https://localhost:8080/",
          "height": 336
        },
        "id": "iVyg-mhG4eKP",
        "outputId": "37199f7f-5a57-4821-824e-ca67edf350a9"
      },
      "source": [
        "temp = salary_df[['OpSys','ConvertedComp']]\n",
        "temp['OpSys'] = salary_df['OpSys'].str.split(';')\n",
        "temp = temp.explode('OpSys');\n",
        "temp.groupby(by='OpSys').median().sort_values(by=\"ConvertedComp\").plot(kind='barh',figsize = (14,5))"
      ],
      "execution_count": 47,
      "outputs": [
        {
          "output_type": "execute_result",
          "data": {
            "text/plain": [
              "<matplotlib.axes._subplots.AxesSubplot at 0x7f197f1b6290>"
            ]
          },
          "metadata": {},
          "execution_count": 47
        },
        {
          "output_type": "display_data",
          "data": {
            "image/png": "[encoded data removed]",
            "text/plain": [
              "<Figure size 1008x360 with 1 Axes>"
            ]
          },
          "metadata": {
            "needs_background": "light"
          }
        }
      ]
    }
  ]
}